{
 "cells": [
  {
   "cell_type": "code",
   "execution_count": 1,
   "id": "696bc366",
   "metadata": {
    "execution": {
     "iopub.execute_input": "2023-11-26T19:30:56.708527Z",
     "iopub.status.busy": "2023-11-26T19:30:56.707303Z",
     "iopub.status.idle": "2023-11-26T19:30:59.005581Z",
     "shell.execute_reply": "2023-11-26T19:30:59.004271Z"
    },
    "id": "p0AuT36T3Eds",
    "papermill": {
     "duration": 2.31772,
     "end_time": "2023-11-26T19:30:59.008428",
     "exception": false,
     "start_time": "2023-11-26T19:30:56.690708",
     "status": "completed"
    },
    "tags": []
   },
   "outputs": [],
   "source": [
    "import pandas as pd\n",
    "import numpy as np\n",
    "import seaborn as sns\n",
    "import matplotlib.pyplot as plt"
   ]
  },
  {
   "cell_type": "code",
   "execution_count": 2,
   "id": "f2bb5102",
   "metadata": {
    "execution": {
     "iopub.execute_input": "2023-11-26T19:30:59.071550Z",
     "iopub.status.busy": "2023-11-26T19:30:59.070818Z",
     "iopub.status.idle": "2023-11-26T19:31:02.049393Z",
     "shell.execute_reply": "2023-11-26T19:31:02.047958Z"
    },
    "id": "CHAMX3Kh3LfY",
    "outputId": "9b3b004b-c55c-4dc4-aac4-4e84e527b30e",
    "papermill": {
     "duration": 2.997823,
     "end_time": "2023-11-26T19:31:02.052235",
     "exception": false,
     "start_time": "2023-11-26T19:30:59.054412",
     "status": "completed"
    },
    "tags": []
   },
   "outputs": [
    {
     "name": "stdout",
     "output_type": "stream",
     "text": [
      "Dataset successfully Imported of Shape : (425119, 35)\n"
     ]
    }
   ],
   "source": [
    "#Importing dataset\n",
    "t20i_df = pd.read_csv('ball_by_ball_it20.csv')\n",
    "print(f\"Dataset successfully Imported of Shape : {t20i_df.shape}\")"
   ]
  },
  {
   "cell_type": "code",
   "execution_count": 3,
   "id": "e1aeada6",
   "metadata": {
    "execution": {
     "iopub.execute_input": "2023-11-26T19:31:02.118437Z",
     "iopub.status.busy": "2023-11-26T19:31:02.118030Z",
     "iopub.status.idle": "2023-11-26T19:31:02.161648Z",
     "shell.execute_reply": "2023-11-26T19:31:02.160278Z"
    },
    "id": "XobBp7D74Pb0",
    "outputId": "89a75e65-b99e-4f9a-8b4e-59f7775977a2",
    "papermill": {
     "duration": 0.063128,
     "end_time": "2023-11-26T19:31:02.164050",
     "exception": false,
     "start_time": "2023-11-26T19:31:02.100922",
     "status": "completed"
    },
    "tags": []
   },
   "outputs": [
    {
     "data": {
      "text/html": [
       "<div>\n",
       "<style scoped>\n",
       "    .dataframe tbody tr th:only-of-type {\n",
       "        vertical-align: middle;\n",
       "    }\n",
       "\n",
       "    .dataframe tbody tr th {\n",
       "        vertical-align: top;\n",
       "    }\n",
       "\n",
       "    .dataframe thead th {\n",
       "        text-align: right;\n",
       "    }\n",
       "</style>\n",
       "<table border=\"1\" class=\"dataframe\">\n",
       "  <thead>\n",
       "    <tr style=\"text-align: right;\">\n",
       "      <th></th>\n",
       "      <th>Unnamed: 0</th>\n",
       "      <th>Match ID</th>\n",
       "      <th>Date</th>\n",
       "      <th>Venue</th>\n",
       "      <th>Bat First</th>\n",
       "      <th>Bat Second</th>\n",
       "      <th>Innings</th>\n",
       "      <th>Over</th>\n",
       "      <th>Ball</th>\n",
       "      <th>Batter</th>\n",
       "      <th>...</th>\n",
       "      <th>Winner</th>\n",
       "      <th>Chased Successfully</th>\n",
       "      <th>Total Batter Runs</th>\n",
       "      <th>Total Non Striker Runs</th>\n",
       "      <th>Batter Balls Faced</th>\n",
       "      <th>Non Striker Balls Faced</th>\n",
       "      <th>Player Out Runs</th>\n",
       "      <th>Player Out Balls Faced</th>\n",
       "      <th>Bowler Runs Conceded</th>\n",
       "      <th>Valid Ball</th>\n",
       "    </tr>\n",
       "  </thead>\n",
       "  <tbody>\n",
       "    <tr>\n",
       "      <th>0</th>\n",
       "      <td>0</td>\n",
       "      <td>1339605</td>\n",
       "      <td>2023-03-26</td>\n",
       "      <td>SuperSport Park</td>\n",
       "      <td>West Indies</td>\n",
       "      <td>South Africa</td>\n",
       "      <td>1</td>\n",
       "      <td>1</td>\n",
       "      <td>1</td>\n",
       "      <td>BA King</td>\n",
       "      <td>...</td>\n",
       "      <td>South Africa</td>\n",
       "      <td>1</td>\n",
       "      <td>1</td>\n",
       "      <td>0</td>\n",
       "      <td>1</td>\n",
       "      <td>0</td>\n",
       "      <td>NaN</td>\n",
       "      <td>NaN</td>\n",
       "      <td>1</td>\n",
       "      <td>1</td>\n",
       "    </tr>\n",
       "    <tr>\n",
       "      <th>1</th>\n",
       "      <td>1</td>\n",
       "      <td>1339605</td>\n",
       "      <td>2023-03-26</td>\n",
       "      <td>SuperSport Park</td>\n",
       "      <td>West Indies</td>\n",
       "      <td>South Africa</td>\n",
       "      <td>1</td>\n",
       "      <td>1</td>\n",
       "      <td>2</td>\n",
       "      <td>KR Mayers</td>\n",
       "      <td>...</td>\n",
       "      <td>South Africa</td>\n",
       "      <td>1</td>\n",
       "      <td>1</td>\n",
       "      <td>1</td>\n",
       "      <td>1</td>\n",
       "      <td>1</td>\n",
       "      <td>NaN</td>\n",
       "      <td>NaN</td>\n",
       "      <td>1</td>\n",
       "      <td>1</td>\n",
       "    </tr>\n",
       "    <tr>\n",
       "      <th>2</th>\n",
       "      <td>2</td>\n",
       "      <td>1339605</td>\n",
       "      <td>2023-03-26</td>\n",
       "      <td>SuperSport Park</td>\n",
       "      <td>West Indies</td>\n",
       "      <td>South Africa</td>\n",
       "      <td>1</td>\n",
       "      <td>1</td>\n",
       "      <td>3</td>\n",
       "      <td>BA King</td>\n",
       "      <td>...</td>\n",
       "      <td>South Africa</td>\n",
       "      <td>1</td>\n",
       "      <td>0</td>\n",
       "      <td>1</td>\n",
       "      <td>0</td>\n",
       "      <td>1</td>\n",
       "      <td>1.0</td>\n",
       "      <td>2.0</td>\n",
       "      <td>0</td>\n",
       "      <td>1</td>\n",
       "    </tr>\n",
       "    <tr>\n",
       "      <th>3</th>\n",
       "      <td>3</td>\n",
       "      <td>1339605</td>\n",
       "      <td>2023-03-26</td>\n",
       "      <td>SuperSport Park</td>\n",
       "      <td>West Indies</td>\n",
       "      <td>South Africa</td>\n",
       "      <td>1</td>\n",
       "      <td>1</td>\n",
       "      <td>4</td>\n",
       "      <td>J Charles</td>\n",
       "      <td>...</td>\n",
       "      <td>South Africa</td>\n",
       "      <td>1</td>\n",
       "      <td>0</td>\n",
       "      <td>1</td>\n",
       "      <td>1</td>\n",
       "      <td>1</td>\n",
       "      <td>NaN</td>\n",
       "      <td>NaN</td>\n",
       "      <td>0</td>\n",
       "      <td>1</td>\n",
       "    </tr>\n",
       "    <tr>\n",
       "      <th>4</th>\n",
       "      <td>4</td>\n",
       "      <td>1339605</td>\n",
       "      <td>2023-03-26</td>\n",
       "      <td>SuperSport Park</td>\n",
       "      <td>West Indies</td>\n",
       "      <td>South Africa</td>\n",
       "      <td>1</td>\n",
       "      <td>1</td>\n",
       "      <td>5</td>\n",
       "      <td>J Charles</td>\n",
       "      <td>...</td>\n",
       "      <td>South Africa</td>\n",
       "      <td>1</td>\n",
       "      <td>4</td>\n",
       "      <td>1</td>\n",
       "      <td>2</td>\n",
       "      <td>1</td>\n",
       "      <td>NaN</td>\n",
       "      <td>NaN</td>\n",
       "      <td>4</td>\n",
       "      <td>1</td>\n",
       "    </tr>\n",
       "  </tbody>\n",
       "</table>\n",
       "<p>5 rows × 35 columns</p>\n",
       "</div>"
      ],
      "text/plain": [
       "   Unnamed: 0  Match ID        Date            Venue    Bat First  \\\n",
       "0           0   1339605  2023-03-26  SuperSport Park  West Indies   \n",
       "1           1   1339605  2023-03-26  SuperSport Park  West Indies   \n",
       "2           2   1339605  2023-03-26  SuperSport Park  West Indies   \n",
       "3           3   1339605  2023-03-26  SuperSport Park  West Indies   \n",
       "4           4   1339605  2023-03-26  SuperSport Park  West Indies   \n",
       "\n",
       "     Bat Second  Innings  Over  Ball     Batter  ...        Winner  \\\n",
       "0  South Africa        1     1     1    BA King  ...  South Africa   \n",
       "1  South Africa        1     1     2  KR Mayers  ...  South Africa   \n",
       "2  South Africa        1     1     3    BA King  ...  South Africa   \n",
       "3  South Africa        1     1     4  J Charles  ...  South Africa   \n",
       "4  South Africa        1     1     5  J Charles  ...  South Africa   \n",
       "\n",
       "  Chased Successfully  Total Batter Runs  Total Non Striker Runs  \\\n",
       "0                   1                  1                       0   \n",
       "1                   1                  1                       1   \n",
       "2                   1                  0                       1   \n",
       "3                   1                  0                       1   \n",
       "4                   1                  4                       1   \n",
       "\n",
       "   Batter Balls Faced  Non Striker Balls Faced Player Out Runs  \\\n",
       "0                   1                        0             NaN   \n",
       "1                   1                        1             NaN   \n",
       "2                   0                        1             1.0   \n",
       "3                   1                        1             NaN   \n",
       "4                   2                        1             NaN   \n",
       "\n",
       "   Player Out Balls Faced Bowler Runs Conceded Valid Ball  \n",
       "0                     NaN                    1          1  \n",
       "1                     NaN                    1          1  \n",
       "2                     2.0                    0          1  \n",
       "3                     NaN                    0          1  \n",
       "4                     NaN                    4          1  \n",
       "\n",
       "[5 rows x 35 columns]"
      ]
     },
     "execution_count": 3,
     "metadata": {},
     "output_type": "execute_result"
    }
   ],
   "source": [
    "# First 5 Columns Data\n",
    "t20i_df.head()"
   ]
  },
  {
   "cell_type": "code",
   "execution_count": 4,
   "id": "c2fbe1d5",
   "metadata": {
    "execution": {
     "iopub.execute_input": "2023-11-26T19:31:02.198074Z",
     "iopub.status.busy": "2023-11-26T19:31:02.197606Z",
     "iopub.status.idle": "2023-11-26T19:31:02.634522Z",
     "shell.execute_reply": "2023-11-26T19:31:02.633453Z"
    },
    "id": "dl5XPiHq4aG0",
    "outputId": "68fc3a72-cd03-4ee0-857e-93b75150b1e3",
    "papermill": {
     "duration": 0.457144,
     "end_time": "2023-11-26T19:31:02.637626",
     "exception": false,
     "start_time": "2023-11-26T19:31:02.180482",
     "status": "completed"
    },
    "tags": []
   },
   "outputs": [
    {
     "data": {
      "text/html": [
       "<div>\n",
       "<style scoped>\n",
       "    .dataframe tbody tr th:only-of-type {\n",
       "        vertical-align: middle;\n",
       "    }\n",
       "\n",
       "    .dataframe tbody tr th {\n",
       "        vertical-align: top;\n",
       "    }\n",
       "\n",
       "    .dataframe thead th {\n",
       "        text-align: right;\n",
       "    }\n",
       "</style>\n",
       "<table border=\"1\" class=\"dataframe\">\n",
       "  <thead>\n",
       "    <tr style=\"text-align: right;\">\n",
       "      <th></th>\n",
       "      <th>Unnamed: 0</th>\n",
       "      <th>Match ID</th>\n",
       "      <th>Innings</th>\n",
       "      <th>Over</th>\n",
       "      <th>Ball</th>\n",
       "      <th>Batter Runs</th>\n",
       "      <th>Extra Runs</th>\n",
       "      <th>Runs From Ball</th>\n",
       "      <th>Ball Rebowled</th>\n",
       "      <th>Wicket</th>\n",
       "      <th>...</th>\n",
       "      <th>Balls Remaining</th>\n",
       "      <th>Chased Successfully</th>\n",
       "      <th>Total Batter Runs</th>\n",
       "      <th>Total Non Striker Runs</th>\n",
       "      <th>Batter Balls Faced</th>\n",
       "      <th>Non Striker Balls Faced</th>\n",
       "      <th>Player Out Runs</th>\n",
       "      <th>Player Out Balls Faced</th>\n",
       "      <th>Bowler Runs Conceded</th>\n",
       "      <th>Valid Ball</th>\n",
       "    </tr>\n",
       "  </thead>\n",
       "  <tbody>\n",
       "    <tr>\n",
       "      <th>count</th>\n",
       "      <td>425119.000000</td>\n",
       "      <td>4.251190e+05</td>\n",
       "      <td>425119.000000</td>\n",
       "      <td>425119.000000</td>\n",
       "      <td>425119.000000</td>\n",
       "      <td>425119.000000</td>\n",
       "      <td>425119.000000</td>\n",
       "      <td>425119.000000</td>\n",
       "      <td>425119.000000</td>\n",
       "      <td>425119.000000</td>\n",
       "      <td>...</td>\n",
       "      <td>425119.000000</td>\n",
       "      <td>425119.000000</td>\n",
       "      <td>425119.00000</td>\n",
       "      <td>425119.000000</td>\n",
       "      <td>425119.000000</td>\n",
       "      <td>425119.000000</td>\n",
       "      <td>23659.000000</td>\n",
       "      <td>23659.000000</td>\n",
       "      <td>425119.000000</td>\n",
       "      <td>425119.000000</td>\n",
       "    </tr>\n",
       "    <tr>\n",
       "      <th>mean</th>\n",
       "      <td>212559.000000</td>\n",
       "      <td>1.089415e+06</td>\n",
       "      <td>1.471172</td>\n",
       "      <td>9.959395</td>\n",
       "      <td>3.486377</td>\n",
       "      <td>1.139502</td>\n",
       "      <td>0.075132</td>\n",
       "      <td>1.214634</td>\n",
       "      <td>0.040189</td>\n",
       "      <td>0.055653</td>\n",
       "      <td>...</td>\n",
       "      <td>62.797443</td>\n",
       "      <td>0.483994</td>\n",
       "      <td>14.71182</td>\n",
       "      <td>13.952406</td>\n",
       "      <td>12.486560</td>\n",
       "      <td>12.138455</td>\n",
       "      <td>15.386280</td>\n",
       "      <td>13.853502</td>\n",
       "      <td>1.187710</td>\n",
       "      <td>0.959811</td>\n",
       "    </tr>\n",
       "    <tr>\n",
       "      <th>std</th>\n",
       "      <td>122721.428881</td>\n",
       "      <td>3.224052e+05</td>\n",
       "      <td>0.499169</td>\n",
       "      <td>5.633134</td>\n",
       "      <td>1.708903</td>\n",
       "      <td>1.546020</td>\n",
       "      <td>0.359310</td>\n",
       "      <td>1.536030</td>\n",
       "      <td>0.196402</td>\n",
       "      <td>0.229250</td>\n",
       "      <td>...</td>\n",
       "      <td>33.835073</td>\n",
       "      <td>0.499744</td>\n",
       "      <td>16.64172</td>\n",
       "      <td>15.976979</td>\n",
       "      <td>11.475981</td>\n",
       "      <td>11.336384</td>\n",
       "      <td>17.408768</td>\n",
       "      <td>11.983127</td>\n",
       "      <td>1.539459</td>\n",
       "      <td>0.196402</td>\n",
       "    </tr>\n",
       "    <tr>\n",
       "      <th>min</th>\n",
       "      <td>0.000000</td>\n",
       "      <td>2.110280e+05</td>\n",
       "      <td>1.000000</td>\n",
       "      <td>1.000000</td>\n",
       "      <td>0.000000</td>\n",
       "      <td>0.000000</td>\n",
       "      <td>0.000000</td>\n",
       "      <td>0.000000</td>\n",
       "      <td>0.000000</td>\n",
       "      <td>0.000000</td>\n",
       "      <td>...</td>\n",
       "      <td>-1.000000</td>\n",
       "      <td>0.000000</td>\n",
       "      <td>0.00000</td>\n",
       "      <td>0.000000</td>\n",
       "      <td>0.000000</td>\n",
       "      <td>0.000000</td>\n",
       "      <td>0.000000</td>\n",
       "      <td>0.000000</td>\n",
       "      <td>0.000000</td>\n",
       "      <td>0.000000</td>\n",
       "    </tr>\n",
       "    <tr>\n",
       "      <th>25%</th>\n",
       "      <td>106279.500000</td>\n",
       "      <td>9.513730e+05</td>\n",
       "      <td>1.000000</td>\n",
       "      <td>5.000000</td>\n",
       "      <td>2.000000</td>\n",
       "      <td>0.000000</td>\n",
       "      <td>0.000000</td>\n",
       "      <td>0.000000</td>\n",
       "      <td>0.000000</td>\n",
       "      <td>0.000000</td>\n",
       "      <td>...</td>\n",
       "      <td>34.000000</td>\n",
       "      <td>0.000000</td>\n",
       "      <td>2.00000</td>\n",
       "      <td>2.000000</td>\n",
       "      <td>4.000000</td>\n",
       "      <td>3.000000</td>\n",
       "      <td>2.000000</td>\n",
       "      <td>5.000000</td>\n",
       "      <td>0.000000</td>\n",
       "      <td>1.000000</td>\n",
       "    </tr>\n",
       "    <tr>\n",
       "      <th>50%</th>\n",
       "      <td>212559.000000</td>\n",
       "      <td>1.233980e+06</td>\n",
       "      <td>1.000000</td>\n",
       "      <td>10.000000</td>\n",
       "      <td>3.000000</td>\n",
       "      <td>1.000000</td>\n",
       "      <td>0.000000</td>\n",
       "      <td>1.000000</td>\n",
       "      <td>0.000000</td>\n",
       "      <td>0.000000</td>\n",
       "      <td>...</td>\n",
       "      <td>64.000000</td>\n",
       "      <td>0.000000</td>\n",
       "      <td>9.00000</td>\n",
       "      <td>8.000000</td>\n",
       "      <td>9.000000</td>\n",
       "      <td>9.000000</td>\n",
       "      <td>9.000000</td>\n",
       "      <td>10.000000</td>\n",
       "      <td>1.000000</td>\n",
       "      <td>1.000000</td>\n",
       "    </tr>\n",
       "    <tr>\n",
       "      <th>75%</th>\n",
       "      <td>318838.500000</td>\n",
       "      <td>1.310948e+06</td>\n",
       "      <td>2.000000</td>\n",
       "      <td>15.000000</td>\n",
       "      <td>5.000000</td>\n",
       "      <td>1.000000</td>\n",
       "      <td>0.000000</td>\n",
       "      <td>1.000000</td>\n",
       "      <td>0.000000</td>\n",
       "      <td>0.000000</td>\n",
       "      <td>...</td>\n",
       "      <td>92.000000</td>\n",
       "      <td>1.000000</td>\n",
       "      <td>21.00000</td>\n",
       "      <td>20.000000</td>\n",
       "      <td>18.000000</td>\n",
       "      <td>18.000000</td>\n",
       "      <td>22.000000</td>\n",
       "      <td>20.000000</td>\n",
       "      <td>1.000000</td>\n",
       "      <td>1.000000</td>\n",
       "    </tr>\n",
       "    <tr>\n",
       "      <th>max</th>\n",
       "      <td>425118.000000</td>\n",
       "      <td>1.393328e+06</td>\n",
       "      <td>2.000000</td>\n",
       "      <td>20.000000</td>\n",
       "      <td>7.000000</td>\n",
       "      <td>7.000000</td>\n",
       "      <td>6.000000</td>\n",
       "      <td>8.000000</td>\n",
       "      <td>1.000000</td>\n",
       "      <td>1.000000</td>\n",
       "      <td>...</td>\n",
       "      <td>120.000000</td>\n",
       "      <td>1.000000</td>\n",
       "      <td>172.00000</td>\n",
       "      <td>168.000000</td>\n",
       "      <td>76.000000</td>\n",
       "      <td>74.000000</td>\n",
       "      <td>172.000000</td>\n",
       "      <td>76.000000</td>\n",
       "      <td>8.000000</td>\n",
       "      <td>1.000000</td>\n",
       "    </tr>\n",
       "  </tbody>\n",
       "</table>\n",
       "<p>8 rows × 24 columns</p>\n",
       "</div>"
      ],
      "text/plain": [
       "          Unnamed: 0      Match ID        Innings           Over  \\\n",
       "count  425119.000000  4.251190e+05  425119.000000  425119.000000   \n",
       "mean   212559.000000  1.089415e+06       1.471172       9.959395   \n",
       "std    122721.428881  3.224052e+05       0.499169       5.633134   \n",
       "min         0.000000  2.110280e+05       1.000000       1.000000   \n",
       "25%    106279.500000  9.513730e+05       1.000000       5.000000   \n",
       "50%    212559.000000  1.233980e+06       1.000000      10.000000   \n",
       "75%    318838.500000  1.310948e+06       2.000000      15.000000   \n",
       "max    425118.000000  1.393328e+06       2.000000      20.000000   \n",
       "\n",
       "                Ball    Batter Runs     Extra Runs  Runs From Ball  \\\n",
       "count  425119.000000  425119.000000  425119.000000   425119.000000   \n",
       "mean        3.486377       1.139502       0.075132        1.214634   \n",
       "std         1.708903       1.546020       0.359310        1.536030   \n",
       "min         0.000000       0.000000       0.000000        0.000000   \n",
       "25%         2.000000       0.000000       0.000000        0.000000   \n",
       "50%         3.000000       1.000000       0.000000        1.000000   \n",
       "75%         5.000000       1.000000       0.000000        1.000000   \n",
       "max         7.000000       7.000000       6.000000        8.000000   \n",
       "\n",
       "       Ball Rebowled         Wicket  ...  Balls Remaining  \\\n",
       "count  425119.000000  425119.000000  ...    425119.000000   \n",
       "mean        0.040189       0.055653  ...        62.797443   \n",
       "std         0.196402       0.229250  ...        33.835073   \n",
       "min         0.000000       0.000000  ...        -1.000000   \n",
       "25%         0.000000       0.000000  ...        34.000000   \n",
       "50%         0.000000       0.000000  ...        64.000000   \n",
       "75%         0.000000       0.000000  ...        92.000000   \n",
       "max         1.000000       1.000000  ...       120.000000   \n",
       "\n",
       "       Chased Successfully  Total Batter Runs  Total Non Striker Runs  \\\n",
       "count        425119.000000       425119.00000           425119.000000   \n",
       "mean              0.483994           14.71182               13.952406   \n",
       "std               0.499744           16.64172               15.976979   \n",
       "min               0.000000            0.00000                0.000000   \n",
       "25%               0.000000            2.00000                2.000000   \n",
       "50%               0.000000            9.00000                8.000000   \n",
       "75%               1.000000           21.00000               20.000000   \n",
       "max               1.000000          172.00000              168.000000   \n",
       "\n",
       "       Batter Balls Faced  Non Striker Balls Faced  Player Out Runs  \\\n",
       "count       425119.000000            425119.000000     23659.000000   \n",
       "mean            12.486560                12.138455        15.386280   \n",
       "std             11.475981                11.336384        17.408768   \n",
       "min              0.000000                 0.000000         0.000000   \n",
       "25%              4.000000                 3.000000         2.000000   \n",
       "50%              9.000000                 9.000000         9.000000   \n",
       "75%             18.000000                18.000000        22.000000   \n",
       "max             76.000000                74.000000       172.000000   \n",
       "\n",
       "       Player Out Balls Faced  Bowler Runs Conceded     Valid Ball  \n",
       "count            23659.000000         425119.000000  425119.000000  \n",
       "mean                13.853502              1.187710       0.959811  \n",
       "std                 11.983127              1.539459       0.196402  \n",
       "min                  0.000000              0.000000       0.000000  \n",
       "25%                  5.000000              0.000000       1.000000  \n",
       "50%                 10.000000              1.000000       1.000000  \n",
       "75%                 20.000000              1.000000       1.000000  \n",
       "max                 76.000000              8.000000       1.000000  \n",
       "\n",
       "[8 rows x 24 columns]"
      ]
     },
     "execution_count": 4,
     "metadata": {},
     "output_type": "execute_result"
    }
   ],
   "source": [
    "# Describing the t20i_dfset\n",
    "t20i_df.describe()"
   ]
  },
  {
   "cell_type": "code",
   "execution_count": 5,
   "id": "1d82ac02",
   "metadata": {
    "execution": {
     "iopub.execute_input": "2023-11-26T19:31:02.672215Z",
     "iopub.status.busy": "2023-11-26T19:31:02.671817Z",
     "iopub.status.idle": "2023-11-26T19:31:03.143781Z",
     "shell.execute_reply": "2023-11-26T19:31:03.141663Z"
    },
    "id": "mPpXimQR4gCc",
    "outputId": "18e36db7-deb1-4c98-d937-57b0b198fd91",
    "papermill": {
     "duration": 0.49248,
     "end_time": "2023-11-26T19:31:03.146481",
     "exception": false,
     "start_time": "2023-11-26T19:31:02.654001",
     "status": "completed"
    },
    "tags": []
   },
   "outputs": [
    {
     "name": "stdout",
     "output_type": "stream",
     "text": [
      "<class 'pandas.core.frame.DataFrame'>\n",
      "RangeIndex: 425119 entries, 0 to 425118\n",
      "Data columns (total 35 columns):\n",
      " #   Column                   Non-Null Count   Dtype  \n",
      "---  ------                   --------------   -----  \n",
      " 0   Unnamed: 0               425119 non-null  int64  \n",
      " 1   Match ID                 425119 non-null  int64  \n",
      " 2   Date                     425119 non-null  object \n",
      " 3   Venue                    425119 non-null  object \n",
      " 4   Bat First                425119 non-null  object \n",
      " 5   Bat Second               425119 non-null  object \n",
      " 6   Innings                  425119 non-null  int64  \n",
      " 7   Over                     425119 non-null  int64  \n",
      " 8   Ball                     425119 non-null  int64  \n",
      " 9   Batter                   425119 non-null  object \n",
      " 10  Non Striker              425119 non-null  object \n",
      " 11  Bowler                   425119 non-null  object \n",
      " 12  Batter Runs              425119 non-null  int64  \n",
      " 13  Extra Runs               425119 non-null  int64  \n",
      " 14  Runs From Ball           425119 non-null  int64  \n",
      " 15  Ball Rebowled            425119 non-null  int64  \n",
      " 16  Extra Type               425119 non-null  object \n",
      " 17  Wicket                   425119 non-null  int64  \n",
      " 18  Method                   23659 non-null   object \n",
      " 19  Player Out               23659 non-null   object \n",
      " 20  Innings Runs             425119 non-null  int64  \n",
      " 21  Innings Wickets          425119 non-null  int64  \n",
      " 22  Target Score             425119 non-null  int64  \n",
      " 23  Runs to Get              200304 non-null  float64\n",
      " 24  Balls Remaining          425119 non-null  int64  \n",
      " 25  Winner                   425119 non-null  object \n",
      " 26  Chased Successfully      425119 non-null  int64  \n",
      " 27  Total Batter Runs        425119 non-null  int64  \n",
      " 28  Total Non Striker Runs   425119 non-null  int64  \n",
      " 29  Batter Balls Faced       425119 non-null  int64  \n",
      " 30  Non Striker Balls Faced  425119 non-null  int64  \n",
      " 31  Player Out Runs          23659 non-null   float64\n",
      " 32  Player Out Balls Faced   23659 non-null   float64\n",
      " 33  Bowler Runs Conceded     425119 non-null  int64  \n",
      " 34  Valid Ball               425119 non-null  int64  \n",
      "dtypes: float64(3), int64(21), object(11)\n",
      "memory usage: 113.5+ MB\n"
     ]
    }
   ],
   "source": [
    "# Information about Each Column\n",
    "t20i_df.info()"
   ]
  },
  {
   "cell_type": "code",
   "execution_count": 6,
   "id": "7e8152ff",
   "metadata": {
    "execution": {
     "iopub.execute_input": "2023-11-26T19:31:03.182449Z",
     "iopub.status.busy": "2023-11-26T19:31:03.182009Z",
     "iopub.status.idle": "2023-11-26T19:31:03.680548Z",
     "shell.execute_reply": "2023-11-26T19:31:03.679077Z"
    },
    "id": "YWmwXKCK4huV",
    "outputId": "5832d68f-54ec-45dc-f6a0-11e6cc41b99a",
    "papermill": {
     "duration": 0.519539,
     "end_time": "2023-11-26T19:31:03.683287",
     "exception": false,
     "start_time": "2023-11-26T19:31:03.163748",
     "status": "completed"
    },
    "tags": []
   },
   "outputs": [
    {
     "data": {
      "text/plain": [
       "Unnamed: 0                 425119\n",
       "Match ID                     1842\n",
       "Date                         1115\n",
       "Venue                         183\n",
       "Bat First                      96\n",
       "Bat Second                     95\n",
       "Innings                         2\n",
       "Over                           20\n",
       "Ball                            8\n",
       "Batter                       2899\n",
       "Non Striker                  2854\n",
       "Bowler                       2156\n",
       "Batter Runs                     8\n",
       "Extra Runs                      7\n",
       "Runs From Ball                  9\n",
       "Ball Rebowled                   2\n",
       "Extra Type                     10\n",
       "Wicket                          2\n",
       "Method                         12\n",
       "Player Out                   2683\n",
       "Innings Runs                  267\n",
       "Innings Wickets                12\n",
       "Target Score                  212\n",
       "Runs to Get                   295\n",
       "Balls Remaining               122\n",
       "Winner                         89\n",
       "Chased Successfully             2\n",
       "Total Batter Runs             160\n",
       "Total Non Striker Runs        143\n",
       "Batter Balls Faced             77\n",
       "Non Striker Balls Faced        73\n",
       "Player Out Runs               123\n",
       "Player Out Balls Faced         69\n",
       "Bowler Runs Conceded            9\n",
       "Valid Ball                      2\n",
       "dtype: int64"
      ]
     },
     "execution_count": 6,
     "metadata": {},
     "output_type": "execute_result"
    }
   ],
   "source": [
    "# Number of Unique Values in each column\n",
    "t20i_df.nunique()"
   ]
  },
  {
   "cell_type": "code",
   "execution_count": 7,
   "id": "f5145680",
   "metadata": {
    "execution": {
     "iopub.execute_input": "2023-11-26T19:31:03.719158Z",
     "iopub.status.busy": "2023-11-26T19:31:03.718706Z",
     "iopub.status.idle": "2023-11-26T19:31:03.728334Z",
     "shell.execute_reply": "2023-11-26T19:31:03.727065Z"
    },
    "id": "9WvhLdlTaEdt",
    "outputId": "988866ed-1df4-491e-b97f-1830599a8faa",
    "papermill": {
     "duration": 0.030291,
     "end_time": "2023-11-26T19:31:03.730705",
     "exception": false,
     "start_time": "2023-11-26T19:31:03.700414",
     "status": "completed"
    },
    "tags": []
   },
   "outputs": [
    {
     "data": {
      "text/plain": [
       "Unnamed: 0                   int64\n",
       "Match ID                     int64\n",
       "Date                        object\n",
       "Venue                       object\n",
       "Bat First                   object\n",
       "Bat Second                  object\n",
       "Innings                      int64\n",
       "Over                         int64\n",
       "Ball                         int64\n",
       "Batter                      object\n",
       "Non Striker                 object\n",
       "Bowler                      object\n",
       "Batter Runs                  int64\n",
       "Extra Runs                   int64\n",
       "Runs From Ball               int64\n",
       "Ball Rebowled                int64\n",
       "Extra Type                  object\n",
       "Wicket                       int64\n",
       "Method                      object\n",
       "Player Out                  object\n",
       "Innings Runs                 int64\n",
       "Innings Wickets              int64\n",
       "Target Score                 int64\n",
       "Runs to Get                float64\n",
       "Balls Remaining              int64\n",
       "Winner                      object\n",
       "Chased Successfully          int64\n",
       "Total Batter Runs            int64\n",
       "Total Non Striker Runs       int64\n",
       "Batter Balls Faced           int64\n",
       "Non Striker Balls Faced      int64\n",
       "Player Out Runs            float64\n",
       "Player Out Balls Faced     float64\n",
       "Bowler Runs Conceded         int64\n",
       "Valid Ball                   int64\n",
       "dtype: object"
      ]
     },
     "execution_count": 7,
     "metadata": {},
     "output_type": "execute_result"
    }
   ],
   "source": [
    "# t20i_df types of all Columns\n",
    "t20i_df.dtypes"
   ]
  },
  {
   "cell_type": "code",
   "execution_count": 8,
   "id": "15b3ff59",
   "metadata": {
    "execution": {
     "iopub.execute_input": "2023-11-26T19:31:03.902201Z",
     "iopub.status.busy": "2023-11-26T19:31:03.901787Z",
     "iopub.status.idle": "2023-11-26T19:33:02.092170Z",
     "shell.execute_reply": "2023-11-26T19:33:02.090727Z"
    },
    "id": "Hb-QjD1a6tRs",
    "outputId": "d49eea35-129f-47ff-faae-ec4b981b1ca8",
    "papermill": {
     "duration": 118.229895,
     "end_time": "2023-11-26T19:33:02.112905",
     "exception": false,
     "start_time": "2023-11-26T19:31:03.883010",
     "status": "completed"
    },
    "tags": []
   },
   "outputs": [
    {
     "data": {
      "text/html": [
       "<div>\n",
       "<style scoped>\n",
       "    .dataframe tbody tr th:only-of-type {\n",
       "        vertical-align: middle;\n",
       "    }\n",
       "\n",
       "    .dataframe tbody tr th {\n",
       "        vertical-align: top;\n",
       "    }\n",
       "\n",
       "    .dataframe thead th {\n",
       "        text-align: right;\n",
       "    }\n",
       "</style>\n",
       "<table border=\"1\" class=\"dataframe\">\n",
       "  <thead>\n",
       "    <tr style=\"text-align: right;\">\n",
       "      <th></th>\n",
       "      <th>Unnamed: 0</th>\n",
       "      <th>Match ID</th>\n",
       "      <th>Date</th>\n",
       "      <th>Venue</th>\n",
       "      <th>Bat First</th>\n",
       "      <th>Bat Second</th>\n",
       "      <th>Innings</th>\n",
       "      <th>Over</th>\n",
       "      <th>Ball</th>\n",
       "      <th>Batter</th>\n",
       "      <th>...</th>\n",
       "      <th>Total Non Striker Runs</th>\n",
       "      <th>Batter Balls Faced</th>\n",
       "      <th>Non Striker Balls Faced</th>\n",
       "      <th>Player Out Runs</th>\n",
       "      <th>Player Out Balls Faced</th>\n",
       "      <th>Bowler Runs Conceded</th>\n",
       "      <th>Valid Ball</th>\n",
       "      <th>overs</th>\n",
       "      <th>runs_last_5_overs</th>\n",
       "      <th>wickets_last_5_overs</th>\n",
       "    </tr>\n",
       "  </thead>\n",
       "  <tbody>\n",
       "    <tr>\n",
       "      <th>0</th>\n",
       "      <td>0</td>\n",
       "      <td>1339605</td>\n",
       "      <td>2023-03-26</td>\n",
       "      <td>SuperSport Park</td>\n",
       "      <td>West Indies</td>\n",
       "      <td>South Africa</td>\n",
       "      <td>1</td>\n",
       "      <td>1</td>\n",
       "      <td>1</td>\n",
       "      <td>BA King</td>\n",
       "      <td>...</td>\n",
       "      <td>0</td>\n",
       "      <td>1</td>\n",
       "      <td>0</td>\n",
       "      <td>NaN</td>\n",
       "      <td>NaN</td>\n",
       "      <td>1</td>\n",
       "      <td>1</td>\n",
       "      <td>0.1</td>\n",
       "      <td>1.0</td>\n",
       "      <td>0.0</td>\n",
       "    </tr>\n",
       "    <tr>\n",
       "      <th>1</th>\n",
       "      <td>1</td>\n",
       "      <td>1339605</td>\n",
       "      <td>2023-03-26</td>\n",
       "      <td>SuperSport Park</td>\n",
       "      <td>West Indies</td>\n",
       "      <td>South Africa</td>\n",
       "      <td>1</td>\n",
       "      <td>1</td>\n",
       "      <td>2</td>\n",
       "      <td>KR Mayers</td>\n",
       "      <td>...</td>\n",
       "      <td>1</td>\n",
       "      <td>1</td>\n",
       "      <td>1</td>\n",
       "      <td>NaN</td>\n",
       "      <td>NaN</td>\n",
       "      <td>1</td>\n",
       "      <td>1</td>\n",
       "      <td>0.2</td>\n",
       "      <td>2.0</td>\n",
       "      <td>0.0</td>\n",
       "    </tr>\n",
       "    <tr>\n",
       "      <th>2</th>\n",
       "      <td>2</td>\n",
       "      <td>1339605</td>\n",
       "      <td>2023-03-26</td>\n",
       "      <td>SuperSport Park</td>\n",
       "      <td>West Indies</td>\n",
       "      <td>South Africa</td>\n",
       "      <td>1</td>\n",
       "      <td>1</td>\n",
       "      <td>3</td>\n",
       "      <td>BA King</td>\n",
       "      <td>...</td>\n",
       "      <td>1</td>\n",
       "      <td>0</td>\n",
       "      <td>1</td>\n",
       "      <td>1.0</td>\n",
       "      <td>2.0</td>\n",
       "      <td>0</td>\n",
       "      <td>1</td>\n",
       "      <td>0.3</td>\n",
       "      <td>2.0</td>\n",
       "      <td>1.0</td>\n",
       "    </tr>\n",
       "    <tr>\n",
       "      <th>3</th>\n",
       "      <td>3</td>\n",
       "      <td>1339605</td>\n",
       "      <td>2023-03-26</td>\n",
       "      <td>SuperSport Park</td>\n",
       "      <td>West Indies</td>\n",
       "      <td>South Africa</td>\n",
       "      <td>1</td>\n",
       "      <td>1</td>\n",
       "      <td>4</td>\n",
       "      <td>J Charles</td>\n",
       "      <td>...</td>\n",
       "      <td>1</td>\n",
       "      <td>1</td>\n",
       "      <td>1</td>\n",
       "      <td>NaN</td>\n",
       "      <td>NaN</td>\n",
       "      <td>0</td>\n",
       "      <td>1</td>\n",
       "      <td>0.4</td>\n",
       "      <td>2.0</td>\n",
       "      <td>1.0</td>\n",
       "    </tr>\n",
       "    <tr>\n",
       "      <th>4</th>\n",
       "      <td>4</td>\n",
       "      <td>1339605</td>\n",
       "      <td>2023-03-26</td>\n",
       "      <td>SuperSport Park</td>\n",
       "      <td>West Indies</td>\n",
       "      <td>South Africa</td>\n",
       "      <td>1</td>\n",
       "      <td>1</td>\n",
       "      <td>5</td>\n",
       "      <td>J Charles</td>\n",
       "      <td>...</td>\n",
       "      <td>1</td>\n",
       "      <td>2</td>\n",
       "      <td>1</td>\n",
       "      <td>NaN</td>\n",
       "      <td>NaN</td>\n",
       "      <td>4</td>\n",
       "      <td>1</td>\n",
       "      <td>0.5</td>\n",
       "      <td>6.0</td>\n",
       "      <td>1.0</td>\n",
       "    </tr>\n",
       "    <tr>\n",
       "      <th>...</th>\n",
       "      <td>...</td>\n",
       "      <td>...</td>\n",
       "      <td>...</td>\n",
       "      <td>...</td>\n",
       "      <td>...</td>\n",
       "      <td>...</td>\n",
       "      <td>...</td>\n",
       "      <td>...</td>\n",
       "      <td>...</td>\n",
       "      <td>...</td>\n",
       "      <td>...</td>\n",
       "      <td>...</td>\n",
       "      <td>...</td>\n",
       "      <td>...</td>\n",
       "      <td>...</td>\n",
       "      <td>...</td>\n",
       "      <td>...</td>\n",
       "      <td>...</td>\n",
       "      <td>...</td>\n",
       "      <td>...</td>\n",
       "      <td>...</td>\n",
       "    </tr>\n",
       "    <tr>\n",
       "      <th>425114</th>\n",
       "      <td>425114</td>\n",
       "      <td>1187667</td>\n",
       "      <td>2019-11-05</td>\n",
       "      <td>Saxton Oval</td>\n",
       "      <td>New Zealand</td>\n",
       "      <td>England</td>\n",
       "      <td>2</td>\n",
       "      <td>20</td>\n",
       "      <td>2</td>\n",
       "      <td>TK Curran</td>\n",
       "      <td>...</td>\n",
       "      <td>2</td>\n",
       "      <td>9</td>\n",
       "      <td>2</td>\n",
       "      <td>NaN</td>\n",
       "      <td>NaN</td>\n",
       "      <td>0</td>\n",
       "      <td>1</td>\n",
       "      <td>19.2</td>\n",
       "      <td>23.0</td>\n",
       "      <td>5.0</td>\n",
       "    </tr>\n",
       "    <tr>\n",
       "      <th>425115</th>\n",
       "      <td>425115</td>\n",
       "      <td>1187667</td>\n",
       "      <td>2019-11-05</td>\n",
       "      <td>Saxton Oval</td>\n",
       "      <td>New Zealand</td>\n",
       "      <td>England</td>\n",
       "      <td>2</td>\n",
       "      <td>20</td>\n",
       "      <td>3</td>\n",
       "      <td>TK Curran</td>\n",
       "      <td>...</td>\n",
       "      <td>2</td>\n",
       "      <td>10</td>\n",
       "      <td>2</td>\n",
       "      <td>NaN</td>\n",
       "      <td>NaN</td>\n",
       "      <td>1</td>\n",
       "      <td>1</td>\n",
       "      <td>19.3</td>\n",
       "      <td>24.0</td>\n",
       "      <td>5.0</td>\n",
       "    </tr>\n",
       "    <tr>\n",
       "      <th>425116</th>\n",
       "      <td>425116</td>\n",
       "      <td>1187667</td>\n",
       "      <td>2019-11-05</td>\n",
       "      <td>Saxton Oval</td>\n",
       "      <td>New Zealand</td>\n",
       "      <td>England</td>\n",
       "      <td>2</td>\n",
       "      <td>20</td>\n",
       "      <td>4</td>\n",
       "      <td>S Mahmood</td>\n",
       "      <td>...</td>\n",
       "      <td>12</td>\n",
       "      <td>3</td>\n",
       "      <td>10</td>\n",
       "      <td>NaN</td>\n",
       "      <td>NaN</td>\n",
       "      <td>0</td>\n",
       "      <td>1</td>\n",
       "      <td>19.4</td>\n",
       "      <td>24.0</td>\n",
       "      <td>4.0</td>\n",
       "    </tr>\n",
       "    <tr>\n",
       "      <th>425117</th>\n",
       "      <td>425117</td>\n",
       "      <td>1187667</td>\n",
       "      <td>2019-11-05</td>\n",
       "      <td>Saxton Oval</td>\n",
       "      <td>New Zealand</td>\n",
       "      <td>England</td>\n",
       "      <td>2</td>\n",
       "      <td>20</td>\n",
       "      <td>5</td>\n",
       "      <td>S Mahmood</td>\n",
       "      <td>...</td>\n",
       "      <td>12</td>\n",
       "      <td>4</td>\n",
       "      <td>10</td>\n",
       "      <td>NaN</td>\n",
       "      <td>NaN</td>\n",
       "      <td>1</td>\n",
       "      <td>1</td>\n",
       "      <td>19.5</td>\n",
       "      <td>24.0</td>\n",
       "      <td>4.0</td>\n",
       "    </tr>\n",
       "    <tr>\n",
       "      <th>425118</th>\n",
       "      <td>425118</td>\n",
       "      <td>1187667</td>\n",
       "      <td>2019-11-05</td>\n",
       "      <td>Saxton Oval</td>\n",
       "      <td>New Zealand</td>\n",
       "      <td>England</td>\n",
       "      <td>2</td>\n",
       "      <td>20</td>\n",
       "      <td>6</td>\n",
       "      <td>TK Curran</td>\n",
       "      <td>...</td>\n",
       "      <td>3</td>\n",
       "      <td>11</td>\n",
       "      <td>4</td>\n",
       "      <td>NaN</td>\n",
       "      <td>NaN</td>\n",
       "      <td>2</td>\n",
       "      <td>1</td>\n",
       "      <td>19.6</td>\n",
       "      <td>25.0</td>\n",
       "      <td>4.0</td>\n",
       "    </tr>\n",
       "  </tbody>\n",
       "</table>\n",
       "<p>425119 rows × 38 columns</p>\n",
       "</div>"
      ],
      "text/plain": [
       "        Unnamed: 0  Match ID        Date            Venue    Bat First  \\\n",
       "0                0   1339605  2023-03-26  SuperSport Park  West Indies   \n",
       "1                1   1339605  2023-03-26  SuperSport Park  West Indies   \n",
       "2                2   1339605  2023-03-26  SuperSport Park  West Indies   \n",
       "3                3   1339605  2023-03-26  SuperSport Park  West Indies   \n",
       "4                4   1339605  2023-03-26  SuperSport Park  West Indies   \n",
       "...            ...       ...         ...              ...          ...   \n",
       "425114      425114   1187667  2019-11-05      Saxton Oval  New Zealand   \n",
       "425115      425115   1187667  2019-11-05      Saxton Oval  New Zealand   \n",
       "425116      425116   1187667  2019-11-05      Saxton Oval  New Zealand   \n",
       "425117      425117   1187667  2019-11-05      Saxton Oval  New Zealand   \n",
       "425118      425118   1187667  2019-11-05      Saxton Oval  New Zealand   \n",
       "\n",
       "          Bat Second  Innings  Over  Ball     Batter  ...  \\\n",
       "0       South Africa        1     1     1    BA King  ...   \n",
       "1       South Africa        1     1     2  KR Mayers  ...   \n",
       "2       South Africa        1     1     3    BA King  ...   \n",
       "3       South Africa        1     1     4  J Charles  ...   \n",
       "4       South Africa        1     1     5  J Charles  ...   \n",
       "...              ...      ...   ...   ...        ...  ...   \n",
       "425114       England        2    20     2  TK Curran  ...   \n",
       "425115       England        2    20     3  TK Curran  ...   \n",
       "425116       England        2    20     4  S Mahmood  ...   \n",
       "425117       England        2    20     5  S Mahmood  ...   \n",
       "425118       England        2    20     6  TK Curran  ...   \n",
       "\n",
       "       Total Non Striker Runs Batter Balls Faced  Non Striker Balls Faced  \\\n",
       "0                           0                  1                        0   \n",
       "1                           1                  1                        1   \n",
       "2                           1                  0                        1   \n",
       "3                           1                  1                        1   \n",
       "4                           1                  2                        1   \n",
       "...                       ...                ...                      ...   \n",
       "425114                      2                  9                        2   \n",
       "425115                      2                 10                        2   \n",
       "425116                     12                  3                       10   \n",
       "425117                     12                  4                       10   \n",
       "425118                      3                 11                        4   \n",
       "\n",
       "        Player Out Runs  Player Out Balls Faced  Bowler Runs Conceded  \\\n",
       "0                   NaN                     NaN                     1   \n",
       "1                   NaN                     NaN                     1   \n",
       "2                   1.0                     2.0                     0   \n",
       "3                   NaN                     NaN                     0   \n",
       "4                   NaN                     NaN                     4   \n",
       "...                 ...                     ...                   ...   \n",
       "425114              NaN                     NaN                     0   \n",
       "425115              NaN                     NaN                     1   \n",
       "425116              NaN                     NaN                     0   \n",
       "425117              NaN                     NaN                     1   \n",
       "425118              NaN                     NaN                     2   \n",
       "\n",
       "       Valid Ball  overs runs_last_5_overs wickets_last_5_overs  \n",
       "0               1    0.1               1.0                  0.0  \n",
       "1               1    0.2               2.0                  0.0  \n",
       "2               1    0.3               2.0                  1.0  \n",
       "3               1    0.4               2.0                  1.0  \n",
       "4               1    0.5               6.0                  1.0  \n",
       "...           ...    ...               ...                  ...  \n",
       "425114          1   19.2              23.0                  5.0  \n",
       "425115          1   19.3              24.0                  5.0  \n",
       "425116          1   19.4              24.0                  4.0  \n",
       "425117          1   19.5              24.0                  4.0  \n",
       "425118          1   19.6              25.0                  4.0  \n",
       "\n",
       "[425119 rows x 38 columns]"
      ]
     },
     "execution_count": 8,
     "metadata": {},
     "output_type": "execute_result"
    }
   ],
   "source": [
    "# Compute Overs for each Match innings\n",
    "t20i_df['overs'] = t20i_df['Over'].astype(str) + '.' + t20i_df['Ball'].astype(str)\n",
    "t20i_df['overs'] = pd.to_numeric(t20i_df['overs'], errors='coerce')-1\n",
    "\n",
    "# Compute Runs in last 5 overs & Wickets in last 5 overs\n",
    "for index, row in t20i_df.iterrows():\n",
    "    if t20i_df['Balls Remaining'][index] < 89:\n",
    "        t20i_df.at[index, 'runs_last_5_overs'] = t20i_df['Innings Runs'][index] - t20i_df['Innings Runs'][index-30]  # assign the value\n",
    "        t20i_df.at[index, 'wickets_last_5_overs'] = t20i_df['Innings Wickets'][index] - t20i_df['Innings Wickets'][index-30]  # assign the value\n",
    "    else:\n",
    "        t20i_df.at[index, 'runs_last_5_overs'] = t20i_df['Innings Runs'][index]  # assign the value\n",
    "        t20i_df.at[index, 'wickets_last_5_overs'] = t20i_df['Innings Wickets'][index]  # assign the value\n",
    "\n",
    "t20i_df"
   ]
  },
  {
   "cell_type": "raw",
   "id": "8c5a1c54",
   "metadata": {
    "id": "kcBf3QuOgzZY",
    "papermill": {
     "duration": 0.017993,
     "end_time": "2023-11-26T19:33:02.149638",
     "exception": false,
     "start_time": "2023-11-26T19:33:02.131645",
     "status": "completed"
    },
    "tags": []
   },
   "source": [
    "#  Removing irrelevant features**\n"
   ]
  },
  {
   "cell_type": "code",
   "execution_count": 9,
   "id": "ba54d976",
   "metadata": {
    "execution": {
     "iopub.execute_input": "2023-11-26T19:33:02.189323Z",
     "iopub.status.busy": "2023-11-26T19:33:02.188116Z",
     "iopub.status.idle": "2023-11-26T19:33:02.240703Z",
     "shell.execute_reply": "2023-11-26T19:33:02.239810Z"
    },
    "id": "0o4-CkhP8W2f",
    "outputId": "94560ba8-a95a-4fad-de89-a91e6d7be60f",
    "papermill": {
     "duration": 0.074611,
     "end_time": "2023-11-26T19:33:02.242755",
     "exception": false,
     "start_time": "2023-11-26T19:33:02.168144",
     "status": "completed"
    },
    "tags": []
   },
   "outputs": [
    {
     "name": "stdout",
     "output_type": "stream",
     "text": [
      "Before Removing Irrelevant Columns : (425119, 38)\n",
      "After Removing Irrelevant Columns : (425119, 8)\n"
     ]
    },
    {
     "data": {
      "text/html": [
       "<div>\n",
       "<style scoped>\n",
       "    .dataframe tbody tr th:only-of-type {\n",
       "        vertical-align: middle;\n",
       "    }\n",
       "\n",
       "    .dataframe tbody tr th {\n",
       "        vertical-align: top;\n",
       "    }\n",
       "\n",
       "    .dataframe thead th {\n",
       "        text-align: right;\n",
       "    }\n",
       "</style>\n",
       "<table border=\"1\" class=\"dataframe\">\n",
       "  <thead>\n",
       "    <tr style=\"text-align: right;\">\n",
       "      <th></th>\n",
       "      <th>Bat First</th>\n",
       "      <th>Bat Second</th>\n",
       "      <th>Innings Runs</th>\n",
       "      <th>Innings Wickets</th>\n",
       "      <th>Target Score</th>\n",
       "      <th>overs</th>\n",
       "      <th>runs_last_5_overs</th>\n",
       "      <th>wickets_last_5_overs</th>\n",
       "    </tr>\n",
       "  </thead>\n",
       "  <tbody>\n",
       "    <tr>\n",
       "      <th>0</th>\n",
       "      <td>West Indies</td>\n",
       "      <td>South Africa</td>\n",
       "      <td>1</td>\n",
       "      <td>0</td>\n",
       "      <td>259</td>\n",
       "      <td>0.1</td>\n",
       "      <td>1.0</td>\n",
       "      <td>0.0</td>\n",
       "    </tr>\n",
       "    <tr>\n",
       "      <th>1</th>\n",
       "      <td>West Indies</td>\n",
       "      <td>South Africa</td>\n",
       "      <td>2</td>\n",
       "      <td>0</td>\n",
       "      <td>259</td>\n",
       "      <td>0.2</td>\n",
       "      <td>2.0</td>\n",
       "      <td>0.0</td>\n",
       "    </tr>\n",
       "    <tr>\n",
       "      <th>2</th>\n",
       "      <td>West Indies</td>\n",
       "      <td>South Africa</td>\n",
       "      <td>2</td>\n",
       "      <td>1</td>\n",
       "      <td>259</td>\n",
       "      <td>0.3</td>\n",
       "      <td>2.0</td>\n",
       "      <td>1.0</td>\n",
       "    </tr>\n",
       "    <tr>\n",
       "      <th>3</th>\n",
       "      <td>West Indies</td>\n",
       "      <td>South Africa</td>\n",
       "      <td>2</td>\n",
       "      <td>1</td>\n",
       "      <td>259</td>\n",
       "      <td>0.4</td>\n",
       "      <td>2.0</td>\n",
       "      <td>1.0</td>\n",
       "    </tr>\n",
       "    <tr>\n",
       "      <th>4</th>\n",
       "      <td>West Indies</td>\n",
       "      <td>South Africa</td>\n",
       "      <td>6</td>\n",
       "      <td>1</td>\n",
       "      <td>259</td>\n",
       "      <td>0.5</td>\n",
       "      <td>6.0</td>\n",
       "      <td>1.0</td>\n",
       "    </tr>\n",
       "    <tr>\n",
       "      <th>...</th>\n",
       "      <td>...</td>\n",
       "      <td>...</td>\n",
       "      <td>...</td>\n",
       "      <td>...</td>\n",
       "      <td>...</td>\n",
       "      <td>...</td>\n",
       "      <td>...</td>\n",
       "      <td>...</td>\n",
       "    </tr>\n",
       "    <tr>\n",
       "      <th>119</th>\n",
       "      <td>West Indies</td>\n",
       "      <td>South Africa</td>\n",
       "      <td>243</td>\n",
       "      <td>5</td>\n",
       "      <td>259</td>\n",
       "      <td>19.2</td>\n",
       "      <td>58.0</td>\n",
       "      <td>1.0</td>\n",
       "    </tr>\n",
       "    <tr>\n",
       "      <th>120</th>\n",
       "      <td>West Indies</td>\n",
       "      <td>South Africa</td>\n",
       "      <td>249</td>\n",
       "      <td>5</td>\n",
       "      <td>259</td>\n",
       "      <td>19.3</td>\n",
       "      <td>63.0</td>\n",
       "      <td>1.0</td>\n",
       "    </tr>\n",
       "    <tr>\n",
       "      <th>121</th>\n",
       "      <td>West Indies</td>\n",
       "      <td>South Africa</td>\n",
       "      <td>251</td>\n",
       "      <td>5</td>\n",
       "      <td>259</td>\n",
       "      <td>19.4</td>\n",
       "      <td>61.0</td>\n",
       "      <td>1.0</td>\n",
       "    </tr>\n",
       "    <tr>\n",
       "      <th>122</th>\n",
       "      <td>West Indies</td>\n",
       "      <td>South Africa</td>\n",
       "      <td>252</td>\n",
       "      <td>5</td>\n",
       "      <td>259</td>\n",
       "      <td>19.5</td>\n",
       "      <td>61.0</td>\n",
       "      <td>1.0</td>\n",
       "    </tr>\n",
       "    <tr>\n",
       "      <th>123</th>\n",
       "      <td>West Indies</td>\n",
       "      <td>South Africa</td>\n",
       "      <td>258</td>\n",
       "      <td>5</td>\n",
       "      <td>259</td>\n",
       "      <td>19.6</td>\n",
       "      <td>66.0</td>\n",
       "      <td>1.0</td>\n",
       "    </tr>\n",
       "  </tbody>\n",
       "</table>\n",
       "<p>124 rows × 8 columns</p>\n",
       "</div>"
      ],
      "text/plain": [
       "       Bat First    Bat Second  Innings Runs  Innings Wickets  Target Score  \\\n",
       "0    West Indies  South Africa             1                0           259   \n",
       "1    West Indies  South Africa             2                0           259   \n",
       "2    West Indies  South Africa             2                1           259   \n",
       "3    West Indies  South Africa             2                1           259   \n",
       "4    West Indies  South Africa             6                1           259   \n",
       "..           ...           ...           ...              ...           ...   \n",
       "119  West Indies  South Africa           243                5           259   \n",
       "120  West Indies  South Africa           249                5           259   \n",
       "121  West Indies  South Africa           251                5           259   \n",
       "122  West Indies  South Africa           252                5           259   \n",
       "123  West Indies  South Africa           258                5           259   \n",
       "\n",
       "     overs  runs_last_5_overs  wickets_last_5_overs  \n",
       "0      0.1                1.0                   0.0  \n",
       "1      0.2                2.0                   0.0  \n",
       "2      0.3                2.0                   1.0  \n",
       "3      0.4                2.0                   1.0  \n",
       "4      0.5                6.0                   1.0  \n",
       "..     ...                ...                   ...  \n",
       "119   19.2               58.0                   1.0  \n",
       "120   19.3               63.0                   1.0  \n",
       "121   19.4               61.0                   1.0  \n",
       "122   19.5               61.0                   1.0  \n",
       "123   19.6               66.0                   1.0  \n",
       "\n",
       "[124 rows x 8 columns]"
      ]
     },
     "execution_count": 9,
     "metadata": {},
     "output_type": "execute_result"
    }
   ],
   "source": [
    "irrelevant = ['Unnamed: 0', 'Match ID', 'Date', 'Venue','Innings', 'Batter', 'Non Striker', 'Bowler', 'Over', 'Ball',\n",
    "       'Batter Runs', 'Extra Runs', 'Runs From Ball', 'Ball Rebowled',\n",
    "       'Extra Type', 'Wicket', 'Method', 'Player Out', 'Runs to Get', 'Balls Remaining',\n",
    "       'Winner', 'Chased Successfully', 'Total Batter Runs',\n",
    "       'Total Non Striker Runs', 'Batter Balls Faced',\n",
    "       'Non Striker Balls Faced', 'Player Out Runs', 'Player Out Balls Faced',\n",
    "       'Bowler Runs Conceded', 'Valid Ball']\n",
    "print(f'Before Removing Irrelevant Columns : {t20i_df.shape}')\n",
    "t20i_df = t20i_df.drop(irrelevant, axis=1) # Drop Irrelevant Columns\n",
    "print(f'After Removing Irrelevant Columns : {t20i_df.shape}')\n",
    "t20i_df.head(124)"
   ]
  },
  {
   "cell_type": "code",
   "execution_count": 10,
   "id": "51017d13",
   "metadata": {
    "execution": {
     "iopub.execute_input": "2023-11-26T19:33:02.319985Z",
     "iopub.status.busy": "2023-11-26T19:33:02.319270Z",
     "iopub.status.idle": "2023-11-26T19:33:02.325310Z",
     "shell.execute_reply": "2023-11-26T19:33:02.324084Z"
    },
    "id": "J1LFaSI_8rF7",
    "papermill": {
     "duration": 0.02936,
     "end_time": "2023-11-26T19:33:02.328153",
     "exception": false,
     "start_time": "2023-11-26T19:33:02.298793",
     "status": "completed"
    },
    "tags": []
   },
   "outputs": [],
   "source": [
    "#Removing Non-Consistent Teams\n",
    "# Define Consistent Teams\n",
    "const_teams = ['Afghanistan', 'Australia', 'Bangladesh',\n",
    "               'England', 'India', 'Ireland', 'New Zealand', 'Pakistan',\n",
    "               'South Africa', 'Sri Lanka', 'West Indies', 'Zimbabwe']"
   ]
  },
  {
   "cell_type": "code",
   "execution_count": 11,
   "id": "0e5e33bd",
   "metadata": {
    "execution": {
     "iopub.execute_input": "2023-11-26T19:33:02.367890Z",
     "iopub.status.busy": "2023-11-26T19:33:02.367478Z",
     "iopub.status.idle": "2023-11-26T19:33:02.519473Z",
     "shell.execute_reply": "2023-11-26T19:33:02.518092Z"
    },
    "id": "G6r3wXug-z5r",
    "outputId": "2a6ea5ff-1b62-4c1b-bba0-a29d674b674b",
    "papermill": {
     "duration": 0.174715,
     "end_time": "2023-11-26T19:33:02.522010",
     "exception": false,
     "start_time": "2023-11-26T19:33:02.347295",
     "status": "completed"
    },
    "tags": []
   },
   "outputs": [
    {
     "name": "stdout",
     "output_type": "stream",
     "text": [
      "Before Removing Inconsistent Teams : (425119, 8)\n",
      "After Removing Irrelevant Columns : (201431, 8)\n",
      "Consistent Teams : \n",
      "['West Indies' 'Sri Lanka' 'England' 'Bangladesh' 'India' 'Afghanistan'\n",
      " 'New Zealand' 'Pakistan' 'South Africa' 'Australia' 'Zimbabwe' 'Ireland']\n"
     ]
    },
    {
     "data": {
      "text/html": [
       "<div>\n",
       "<style scoped>\n",
       "    .dataframe tbody tr th:only-of-type {\n",
       "        vertical-align: middle;\n",
       "    }\n",
       "\n",
       "    .dataframe tbody tr th {\n",
       "        vertical-align: top;\n",
       "    }\n",
       "\n",
       "    .dataframe thead th {\n",
       "        text-align: right;\n",
       "    }\n",
       "</style>\n",
       "<table border=\"1\" class=\"dataframe\">\n",
       "  <thead>\n",
       "    <tr style=\"text-align: right;\">\n",
       "      <th></th>\n",
       "      <th>Bat First</th>\n",
       "      <th>Bat Second</th>\n",
       "      <th>Innings Runs</th>\n",
       "      <th>Innings Wickets</th>\n",
       "      <th>Target Score</th>\n",
       "      <th>overs</th>\n",
       "      <th>runs_last_5_overs</th>\n",
       "      <th>wickets_last_5_overs</th>\n",
       "    </tr>\n",
       "  </thead>\n",
       "  <tbody>\n",
       "    <tr>\n",
       "      <th>0</th>\n",
       "      <td>West Indies</td>\n",
       "      <td>South Africa</td>\n",
       "      <td>1</td>\n",
       "      <td>0</td>\n",
       "      <td>259</td>\n",
       "      <td>0.1</td>\n",
       "      <td>1.0</td>\n",
       "      <td>0.0</td>\n",
       "    </tr>\n",
       "    <tr>\n",
       "      <th>1</th>\n",
       "      <td>West Indies</td>\n",
       "      <td>South Africa</td>\n",
       "      <td>2</td>\n",
       "      <td>0</td>\n",
       "      <td>259</td>\n",
       "      <td>0.2</td>\n",
       "      <td>2.0</td>\n",
       "      <td>0.0</td>\n",
       "    </tr>\n",
       "    <tr>\n",
       "      <th>2</th>\n",
       "      <td>West Indies</td>\n",
       "      <td>South Africa</td>\n",
       "      <td>2</td>\n",
       "      <td>1</td>\n",
       "      <td>259</td>\n",
       "      <td>0.3</td>\n",
       "      <td>2.0</td>\n",
       "      <td>1.0</td>\n",
       "    </tr>\n",
       "    <tr>\n",
       "      <th>3</th>\n",
       "      <td>West Indies</td>\n",
       "      <td>South Africa</td>\n",
       "      <td>2</td>\n",
       "      <td>1</td>\n",
       "      <td>259</td>\n",
       "      <td>0.4</td>\n",
       "      <td>2.0</td>\n",
       "      <td>1.0</td>\n",
       "    </tr>\n",
       "    <tr>\n",
       "      <th>4</th>\n",
       "      <td>West Indies</td>\n",
       "      <td>South Africa</td>\n",
       "      <td>6</td>\n",
       "      <td>1</td>\n",
       "      <td>259</td>\n",
       "      <td>0.5</td>\n",
       "      <td>6.0</td>\n",
       "      <td>1.0</td>\n",
       "    </tr>\n",
       "  </tbody>\n",
       "</table>\n",
       "</div>"
      ],
      "text/plain": [
       "     Bat First    Bat Second  Innings Runs  Innings Wickets  Target Score  \\\n",
       "0  West Indies  South Africa             1                0           259   \n",
       "1  West Indies  South Africa             2                0           259   \n",
       "2  West Indies  South Africa             2                1           259   \n",
       "3  West Indies  South Africa             2                1           259   \n",
       "4  West Indies  South Africa             6                1           259   \n",
       "\n",
       "   overs  runs_last_5_overs  wickets_last_5_overs  \n",
       "0    0.1                1.0                   0.0  \n",
       "1    0.2                2.0                   0.0  \n",
       "2    0.3                2.0                   1.0  \n",
       "3    0.4                2.0                   1.0  \n",
       "4    0.5                6.0                   1.0  "
      ]
     },
     "execution_count": 11,
     "metadata": {},
     "output_type": "execute_result"
    }
   ],
   "source": [
    "print(f'Before Removing Inconsistent Teams : {t20i_df.shape}')\n",
    "\n",
    "# Remove the Non-Consistent Teams\n",
    "t20i_df = t20i_df[(t20i_df['Bat First'].isin(const_teams)) & (t20i_df['Bat Second'].isin(const_teams))]\n",
    "print(f'After Removing Irrelevant Columns : {t20i_df.shape}')\n",
    "\n",
    "print(f\"Consistent Teams : \\n{t20i_df['Bat First'].unique()}\")\n",
    "\n",
    "t20i_df.head()"
   ]
  },
  {
   "cell_type": "code",
   "execution_count": 12,
   "id": "d5c57ddf",
   "metadata": {
    "execution": {
     "iopub.execute_input": "2023-11-26T19:33:02.602676Z",
     "iopub.status.busy": "2023-11-26T19:33:02.602254Z",
     "iopub.status.idle": "2023-11-26T19:33:02.634417Z",
     "shell.execute_reply": "2023-11-26T19:33:02.633206Z"
    },
    "id": "A6zO88dj_5Q7",
    "outputId": "095e1472-0a64-49d2-d963-f6118e23198a",
    "papermill": {
     "duration": 0.056263,
     "end_time": "2023-11-26T19:33:02.637431",
     "exception": false,
     "start_time": "2023-11-26T19:33:02.581168",
     "status": "completed"
    },
    "tags": []
   },
   "outputs": [
    {
     "name": "stdout",
     "output_type": "stream",
     "text": [
      "Before Removing Overs : (201431, 8)\n",
      "After Removing Overs : (147810, 8)\n"
     ]
    },
    {
     "data": {
      "text/html": [
       "<div>\n",
       "<style scoped>\n",
       "    .dataframe tbody tr th:only-of-type {\n",
       "        vertical-align: middle;\n",
       "    }\n",
       "\n",
       "    .dataframe tbody tr th {\n",
       "        vertical-align: top;\n",
       "    }\n",
       "\n",
       "    .dataframe thead th {\n",
       "        text-align: right;\n",
       "    }\n",
       "</style>\n",
       "<table border=\"1\" class=\"dataframe\">\n",
       "  <thead>\n",
       "    <tr style=\"text-align: right;\">\n",
       "      <th></th>\n",
       "      <th>Bat First</th>\n",
       "      <th>Bat Second</th>\n",
       "      <th>Innings Runs</th>\n",
       "      <th>Innings Wickets</th>\n",
       "      <th>Target Score</th>\n",
       "      <th>overs</th>\n",
       "      <th>runs_last_5_overs</th>\n",
       "      <th>wickets_last_5_overs</th>\n",
       "    </tr>\n",
       "  </thead>\n",
       "  <tbody>\n",
       "    <tr>\n",
       "      <th>31</th>\n",
       "      <td>West Indies</td>\n",
       "      <td>South Africa</td>\n",
       "      <td>57</td>\n",
       "      <td>1</td>\n",
       "      <td>259</td>\n",
       "      <td>5.1</td>\n",
       "      <td>57.0</td>\n",
       "      <td>1.0</td>\n",
       "    </tr>\n",
       "    <tr>\n",
       "      <th>32</th>\n",
       "      <td>West Indies</td>\n",
       "      <td>South Africa</td>\n",
       "      <td>61</td>\n",
       "      <td>1</td>\n",
       "      <td>259</td>\n",
       "      <td>5.2</td>\n",
       "      <td>59.0</td>\n",
       "      <td>0.0</td>\n",
       "    </tr>\n",
       "    <tr>\n",
       "      <th>33</th>\n",
       "      <td>West Indies</td>\n",
       "      <td>South Africa</td>\n",
       "      <td>62</td>\n",
       "      <td>1</td>\n",
       "      <td>259</td>\n",
       "      <td>5.3</td>\n",
       "      <td>60.0</td>\n",
       "      <td>0.0</td>\n",
       "    </tr>\n",
       "    <tr>\n",
       "      <th>34</th>\n",
       "      <td>West Indies</td>\n",
       "      <td>South Africa</td>\n",
       "      <td>62</td>\n",
       "      <td>1</td>\n",
       "      <td>259</td>\n",
       "      <td>5.4</td>\n",
       "      <td>56.0</td>\n",
       "      <td>0.0</td>\n",
       "    </tr>\n",
       "    <tr>\n",
       "      <th>35</th>\n",
       "      <td>West Indies</td>\n",
       "      <td>South Africa</td>\n",
       "      <td>62</td>\n",
       "      <td>1</td>\n",
       "      <td>259</td>\n",
       "      <td>5.5</td>\n",
       "      <td>52.0</td>\n",
       "      <td>0.0</td>\n",
       "    </tr>\n",
       "  </tbody>\n",
       "</table>\n",
       "</div>"
      ],
      "text/plain": [
       "      Bat First    Bat Second  Innings Runs  Innings Wickets  Target Score  \\\n",
       "31  West Indies  South Africa            57                1           259   \n",
       "32  West Indies  South Africa            61                1           259   \n",
       "33  West Indies  South Africa            62                1           259   \n",
       "34  West Indies  South Africa            62                1           259   \n",
       "35  West Indies  South Africa            62                1           259   \n",
       "\n",
       "    overs  runs_last_5_overs  wickets_last_5_overs  \n",
       "31    5.1               57.0                   1.0  \n",
       "32    5.2               59.0                   0.0  \n",
       "33    5.3               60.0                   0.0  \n",
       "34    5.4               56.0                   0.0  \n",
       "35    5.5               52.0                   0.0  "
      ]
     },
     "execution_count": 12,
     "metadata": {},
     "output_type": "execute_result"
    }
   ],
   "source": [
    "#Remove First 5 Overs of every match as not very impactfull to the scores of the match\n",
    "print(f'Before Removing Overs : {t20i_df.shape}')\n",
    "\n",
    "t20i_df = t20i_df[t20i_df['overs'] >= 5.0]\n",
    "print(f'After Removing Overs : {t20i_df.shape}')\n",
    "\n",
    "t20i_df.head()"
   ]
  },
  {
   "cell_type": "code",
   "execution_count": 13,
   "id": "d06db4ea",
   "metadata": {
    "execution": {
     "iopub.execute_input": "2023-11-26T19:33:02.721291Z",
     "iopub.status.busy": "2023-11-26T19:33:02.720856Z",
     "iopub.status.idle": "2023-11-26T19:33:03.312874Z",
     "shell.execute_reply": "2023-11-26T19:33:03.311971Z"
    },
    "id": "UDV9JNrZkvZ1",
    "outputId": "aa172d2b-3e6b-4309-d6d3-ae0726303d51",
    "papermill": {
     "duration": 0.615948,
     "end_time": "2023-11-26T19:33:03.315388",
     "exception": false,
     "start_time": "2023-11-26T19:33:02.699440",
     "status": "completed"
    },
    "tags": []
   },
   "outputs": [
    {
     "data": {
      "text/plain": [
       "<Axes: >"
      ]
     },
     "execution_count": 13,
     "metadata": {},
     "output_type": "execute_result"
    },
    {
     "data": {
      "image/png": "[encoded data removed]",
      "text/plain": [
       "<Figure size 640x480 with 2 Axes>"
      ]
     },
     "metadata": {},
     "output_type": "display_data"
    }
   ],
   "source": [
    "#Correlation between the final features\n",
    "from seaborn import heatmap\n",
    "\n",
    "numerical_t20i_df = t20i_df.select_dtypes(include=['int64', 'float64'])\n",
    "heatmap(data=numerical_t20i_df.corr(), annot=True)"
   ]
  },
  {
   "cell_type": "code",
   "execution_count": 14,
   "id": "03cbedea",
   "metadata": {
    "execution": {
     "iopub.execute_input": "2023-11-26T19:33:03.446164Z",
     "iopub.status.busy": "2023-11-26T19:33:03.445410Z",
     "iopub.status.idle": "2023-11-26T19:33:03.724524Z",
     "shell.execute_reply": "2023-11-26T19:33:03.723307Z"
    },
    "id": "pw2DBRSAB478",
    "outputId": "ffb5f840-1066-4de8-f8ba-94eb8222df12",
    "papermill": {
     "duration": 0.304878,
     "end_time": "2023-11-26T19:33:03.727180",
     "exception": false,
     "start_time": "2023-11-26T19:33:03.422302",
     "status": "completed"
    },
    "tags": []
   },
   "outputs": [
    {
     "data": {
      "text/html": [
       "<div>\n",
       "<style scoped>\n",
       "    .dataframe tbody tr th:only-of-type {\n",
       "        vertical-align: middle;\n",
       "    }\n",
       "\n",
       "    .dataframe tbody tr th {\n",
       "        vertical-align: top;\n",
       "    }\n",
       "\n",
       "    .dataframe thead th {\n",
       "        text-align: right;\n",
       "    }\n",
       "</style>\n",
       "<table border=\"1\" class=\"dataframe\">\n",
       "  <thead>\n",
       "    <tr style=\"text-align: right;\">\n",
       "      <th></th>\n",
       "      <th>Bat First</th>\n",
       "      <th>Bat Second</th>\n",
       "      <th>Innings Runs</th>\n",
       "      <th>Innings Wickets</th>\n",
       "      <th>Target Score</th>\n",
       "      <th>overs</th>\n",
       "      <th>runs_last_5_overs</th>\n",
       "      <th>wickets_last_5_overs</th>\n",
       "    </tr>\n",
       "  </thead>\n",
       "  <tbody>\n",
       "    <tr>\n",
       "      <th>31</th>\n",
       "      <td>10</td>\n",
       "      <td>8</td>\n",
       "      <td>57</td>\n",
       "      <td>1</td>\n",
       "      <td>259</td>\n",
       "      <td>5.1</td>\n",
       "      <td>57.0</td>\n",
       "      <td>1.0</td>\n",
       "    </tr>\n",
       "    <tr>\n",
       "      <th>32</th>\n",
       "      <td>10</td>\n",
       "      <td>8</td>\n",
       "      <td>61</td>\n",
       "      <td>1</td>\n",
       "      <td>259</td>\n",
       "      <td>5.2</td>\n",
       "      <td>59.0</td>\n",
       "      <td>0.0</td>\n",
       "    </tr>\n",
       "    <tr>\n",
       "      <th>33</th>\n",
       "      <td>10</td>\n",
       "      <td>8</td>\n",
       "      <td>62</td>\n",
       "      <td>1</td>\n",
       "      <td>259</td>\n",
       "      <td>5.3</td>\n",
       "      <td>60.0</td>\n",
       "      <td>0.0</td>\n",
       "    </tr>\n",
       "    <tr>\n",
       "      <th>34</th>\n",
       "      <td>10</td>\n",
       "      <td>8</td>\n",
       "      <td>62</td>\n",
       "      <td>1</td>\n",
       "      <td>259</td>\n",
       "      <td>5.4</td>\n",
       "      <td>56.0</td>\n",
       "      <td>0.0</td>\n",
       "    </tr>\n",
       "    <tr>\n",
       "      <th>35</th>\n",
       "      <td>10</td>\n",
       "      <td>8</td>\n",
       "      <td>62</td>\n",
       "      <td>1</td>\n",
       "      <td>259</td>\n",
       "      <td>5.5</td>\n",
       "      <td>52.0</td>\n",
       "      <td>0.0</td>\n",
       "    </tr>\n",
       "  </tbody>\n",
       "</table>\n",
       "</div>"
      ],
      "text/plain": [
       "    Bat First  Bat Second  Innings Runs  Innings Wickets  Target Score  overs  \\\n",
       "31         10           8            57                1           259    5.1   \n",
       "32         10           8            61                1           259    5.2   \n",
       "33         10           8            62                1           259    5.3   \n",
       "34         10           8            62                1           259    5.4   \n",
       "35         10           8            62                1           259    5.5   \n",
       "\n",
       "    runs_last_5_overs  wickets_last_5_overs  \n",
       "31               57.0                   1.0  \n",
       "32               59.0                   0.0  \n",
       "33               60.0                   0.0  \n",
       "34               56.0                   0.0  \n",
       "35               52.0                   0.0  "
      ]
     },
     "execution_count": 14,
     "metadata": {},
     "output_type": "execute_result"
    }
   ],
   "source": [
    "#Data Preprocessing and Encoding\n",
    "#The Categorical Data features Batting Team and Bowling Team are to be converted into the Numerical data using One Hot Encoder\n",
    "from sklearn.preprocessing import LabelEncoder, OneHotEncoder\n",
    "\n",
    "le = LabelEncoder()\n",
    "for col in ['Bat First', 'Bat Second']:\n",
    "  t20i_df[col] = le.fit_transform(t20i_df[col])\n",
    "\n",
    "t20i_df.head()"
   ]
  },
  {
   "cell_type": "code",
   "execution_count": 15,
   "id": "e3f33d3f",
   "metadata": {
    "execution": {
     "iopub.execute_input": "2023-11-26T19:33:03.814918Z",
     "iopub.status.busy": "2023-11-26T19:33:03.814209Z",
     "iopub.status.idle": "2023-11-26T19:33:03.828129Z",
     "shell.execute_reply": "2023-11-26T19:33:03.827313Z"
    },
    "id": "gTBquJ09Fqpr",
    "papermill": {
     "duration": 0.039078,
     "end_time": "2023-11-26T19:33:03.830608",
     "exception": false,
     "start_time": "2023-11-26T19:33:03.791530",
     "status": "completed"
    },
    "tags": []
   },
   "outputs": [],
   "source": [
    "from sklearn.compose import ColumnTransformer\n",
    "\n",
    "columnTransformer = ColumnTransformer([('encoder', OneHotEncoder(), [0, 1])], remainder='passthrough')"
   ]
  },
  {
   "cell_type": "code",
   "execution_count": 16,
   "id": "aa395b79",
   "metadata": {
    "execution": {
     "iopub.execute_input": "2023-11-26T19:33:03.877798Z",
     "iopub.status.busy": "2023-11-26T19:33:03.877155Z",
     "iopub.status.idle": "2023-11-26T19:33:04.049206Z",
     "shell.execute_reply": "2023-11-26T19:33:04.047899Z"
    },
    "id": "WHBT1Y68GcJn",
    "papermill": {
     "duration": 0.198865,
     "end_time": "2023-11-26T19:33:04.052293",
     "exception": false,
     "start_time": "2023-11-26T19:33:03.853428",
     "status": "completed"
    },
    "tags": []
   },
   "outputs": [],
   "source": [
    "t20i_array = columnTransformer.fit_transform(t20i_df)\n",
    "\n",
    "# Convert the sparse matrix to an array\n",
    "t20i_array = t20i_array.toarray()\n",
    "\n",
    "# Create the list of column names for the DataFrame\n",
    "feature_names = list(columnTransformer.named_transformers_['encoder'].get_feature_names_out(['Bat First', 'Bat Second'])) + ['Innings Runs', 'Innings Wickets', 'Target Score', 'overs', 'runs_last_5_overs', 'wickets_last_5_overs']\n"
   ]
  },
  {
   "cell_type": "code",
   "execution_count": 17,
   "id": "f1308418",
   "metadata": {
    "execution": {
     "iopub.execute_input": "2023-11-26T19:33:04.144158Z",
     "iopub.status.busy": "2023-11-26T19:33:04.143766Z",
     "iopub.status.idle": "2023-11-26T19:33:04.149510Z",
     "shell.execute_reply": "2023-11-26T19:33:04.148303Z"
    },
    "id": "qQavBDKHGia1",
    "papermill": {
     "duration": 0.031473,
     "end_time": "2023-11-26T19:33:04.151985",
     "exception": false,
     "start_time": "2023-11-26T19:33:04.120512",
     "status": "completed"
    },
    "tags": []
   },
   "outputs": [],
   "source": [
    "df = pd.DataFrame(t20i_array, columns=feature_names)"
   ]
  },
  {
   "cell_type": "code",
   "execution_count": 18,
   "id": "e202620b",
   "metadata": {
    "execution": {
     "iopub.execute_input": "2023-11-26T19:33:04.199236Z",
     "iopub.status.busy": "2023-11-26T19:33:04.198787Z",
     "iopub.status.idle": "2023-11-26T19:33:04.234736Z",
     "shell.execute_reply": "2023-11-26T19:33:04.233660Z"
    },
    "id": "M77XEk1VGjxo",
    "outputId": "7785a43e-31b4-4077-bbaa-8cfcb32fb449",
    "papermill": {
     "duration": 0.06249,
     "end_time": "2023-11-26T19:33:04.237149",
     "exception": false,
     "start_time": "2023-11-26T19:33:04.174659",
     "status": "completed"
    },
    "tags": []
   },
   "outputs": [
    {
     "data": {
      "text/html": [
       "<div>\n",
       "<style scoped>\n",
       "    .dataframe tbody tr th:only-of-type {\n",
       "        vertical-align: middle;\n",
       "    }\n",
       "\n",
       "    .dataframe tbody tr th {\n",
       "        vertical-align: top;\n",
       "    }\n",
       "\n",
       "    .dataframe thead th {\n",
       "        text-align: right;\n",
       "    }\n",
       "</style>\n",
       "<table border=\"1\" class=\"dataframe\">\n",
       "  <thead>\n",
       "    <tr style=\"text-align: right;\">\n",
       "      <th></th>\n",
       "      <th>Bat First_0</th>\n",
       "      <th>Bat First_1</th>\n",
       "      <th>Bat First_2</th>\n",
       "      <th>Bat First_3</th>\n",
       "      <th>Bat First_4</th>\n",
       "      <th>Bat First_5</th>\n",
       "      <th>Bat First_6</th>\n",
       "      <th>Bat First_7</th>\n",
       "      <th>Bat First_8</th>\n",
       "      <th>Bat First_9</th>\n",
       "      <th>...</th>\n",
       "      <th>Bat Second_8</th>\n",
       "      <th>Bat Second_9</th>\n",
       "      <th>Bat Second_10</th>\n",
       "      <th>Bat Second_11</th>\n",
       "      <th>Innings Runs</th>\n",
       "      <th>Innings Wickets</th>\n",
       "      <th>Target Score</th>\n",
       "      <th>overs</th>\n",
       "      <th>runs_last_5_overs</th>\n",
       "      <th>wickets_last_5_overs</th>\n",
       "    </tr>\n",
       "  </thead>\n",
       "  <tbody>\n",
       "    <tr>\n",
       "      <th>0</th>\n",
       "      <td>0.0</td>\n",
       "      <td>0.0</td>\n",
       "      <td>0.0</td>\n",
       "      <td>0.0</td>\n",
       "      <td>0.0</td>\n",
       "      <td>0.0</td>\n",
       "      <td>0.0</td>\n",
       "      <td>0.0</td>\n",
       "      <td>0.0</td>\n",
       "      <td>0.0</td>\n",
       "      <td>...</td>\n",
       "      <td>1.0</td>\n",
       "      <td>0.0</td>\n",
       "      <td>0.0</td>\n",
       "      <td>0.0</td>\n",
       "      <td>57.0</td>\n",
       "      <td>1.0</td>\n",
       "      <td>259.0</td>\n",
       "      <td>5.1</td>\n",
       "      <td>57.0</td>\n",
       "      <td>1.0</td>\n",
       "    </tr>\n",
       "    <tr>\n",
       "      <th>1</th>\n",
       "      <td>0.0</td>\n",
       "      <td>0.0</td>\n",
       "      <td>0.0</td>\n",
       "      <td>0.0</td>\n",
       "      <td>0.0</td>\n",
       "      <td>0.0</td>\n",
       "      <td>0.0</td>\n",
       "      <td>0.0</td>\n",
       "      <td>0.0</td>\n",
       "      <td>0.0</td>\n",
       "      <td>...</td>\n",
       "      <td>1.0</td>\n",
       "      <td>0.0</td>\n",
       "      <td>0.0</td>\n",
       "      <td>0.0</td>\n",
       "      <td>61.0</td>\n",
       "      <td>1.0</td>\n",
       "      <td>259.0</td>\n",
       "      <td>5.2</td>\n",
       "      <td>59.0</td>\n",
       "      <td>0.0</td>\n",
       "    </tr>\n",
       "    <tr>\n",
       "      <th>2</th>\n",
       "      <td>0.0</td>\n",
       "      <td>0.0</td>\n",
       "      <td>0.0</td>\n",
       "      <td>0.0</td>\n",
       "      <td>0.0</td>\n",
       "      <td>0.0</td>\n",
       "      <td>0.0</td>\n",
       "      <td>0.0</td>\n",
       "      <td>0.0</td>\n",
       "      <td>0.0</td>\n",
       "      <td>...</td>\n",
       "      <td>1.0</td>\n",
       "      <td>0.0</td>\n",
       "      <td>0.0</td>\n",
       "      <td>0.0</td>\n",
       "      <td>62.0</td>\n",
       "      <td>1.0</td>\n",
       "      <td>259.0</td>\n",
       "      <td>5.3</td>\n",
       "      <td>60.0</td>\n",
       "      <td>0.0</td>\n",
       "    </tr>\n",
       "    <tr>\n",
       "      <th>3</th>\n",
       "      <td>0.0</td>\n",
       "      <td>0.0</td>\n",
       "      <td>0.0</td>\n",
       "      <td>0.0</td>\n",
       "      <td>0.0</td>\n",
       "      <td>0.0</td>\n",
       "      <td>0.0</td>\n",
       "      <td>0.0</td>\n",
       "      <td>0.0</td>\n",
       "      <td>0.0</td>\n",
       "      <td>...</td>\n",
       "      <td>1.0</td>\n",
       "      <td>0.0</td>\n",
       "      <td>0.0</td>\n",
       "      <td>0.0</td>\n",
       "      <td>62.0</td>\n",
       "      <td>1.0</td>\n",
       "      <td>259.0</td>\n",
       "      <td>5.4</td>\n",
       "      <td>56.0</td>\n",
       "      <td>0.0</td>\n",
       "    </tr>\n",
       "    <tr>\n",
       "      <th>4</th>\n",
       "      <td>0.0</td>\n",
       "      <td>0.0</td>\n",
       "      <td>0.0</td>\n",
       "      <td>0.0</td>\n",
       "      <td>0.0</td>\n",
       "      <td>0.0</td>\n",
       "      <td>0.0</td>\n",
       "      <td>0.0</td>\n",
       "      <td>0.0</td>\n",
       "      <td>0.0</td>\n",
       "      <td>...</td>\n",
       "      <td>1.0</td>\n",
       "      <td>0.0</td>\n",
       "      <td>0.0</td>\n",
       "      <td>0.0</td>\n",
       "      <td>62.0</td>\n",
       "      <td>1.0</td>\n",
       "      <td>259.0</td>\n",
       "      <td>5.5</td>\n",
       "      <td>52.0</td>\n",
       "      <td>0.0</td>\n",
       "    </tr>\n",
       "  </tbody>\n",
       "</table>\n",
       "<p>5 rows × 30 columns</p>\n",
       "</div>"
      ],
      "text/plain": [
       "   Bat First_0  Bat First_1  Bat First_2  Bat First_3  Bat First_4  \\\n",
       "0          0.0          0.0          0.0          0.0          0.0   \n",
       "1          0.0          0.0          0.0          0.0          0.0   \n",
       "2          0.0          0.0          0.0          0.0          0.0   \n",
       "3          0.0          0.0          0.0          0.0          0.0   \n",
       "4          0.0          0.0          0.0          0.0          0.0   \n",
       "\n",
       "   Bat First_5  Bat First_6  Bat First_7  Bat First_8  Bat First_9  ...  \\\n",
       "0          0.0          0.0          0.0          0.0          0.0  ...   \n",
       "1          0.0          0.0          0.0          0.0          0.0  ...   \n",
       "2          0.0          0.0          0.0          0.0          0.0  ...   \n",
       "3          0.0          0.0          0.0          0.0          0.0  ...   \n",
       "4          0.0          0.0          0.0          0.0          0.0  ...   \n",
       "\n",
       "   Bat Second_8  Bat Second_9  Bat Second_10  Bat Second_11  Innings Runs  \\\n",
       "0           1.0           0.0            0.0            0.0          57.0   \n",
       "1           1.0           0.0            0.0            0.0          61.0   \n",
       "2           1.0           0.0            0.0            0.0          62.0   \n",
       "3           1.0           0.0            0.0            0.0          62.0   \n",
       "4           1.0           0.0            0.0            0.0          62.0   \n",
       "\n",
       "   Innings Wickets  Target Score  overs  runs_last_5_overs  \\\n",
       "0              1.0         259.0    5.1               57.0   \n",
       "1              1.0         259.0    5.2               59.0   \n",
       "2              1.0         259.0    5.3               60.0   \n",
       "3              1.0         259.0    5.4               56.0   \n",
       "4              1.0         259.0    5.5               52.0   \n",
       "\n",
       "   wickets_last_5_overs  \n",
       "0                   1.0  \n",
       "1                   0.0  \n",
       "2                   0.0  \n",
       "3                   0.0  \n",
       "4                   0.0  \n",
       "\n",
       "[5 rows x 30 columns]"
      ]
     },
     "execution_count": 18,
     "metadata": {},
     "output_type": "execute_result"
    }
   ],
   "source": [
    "# Encoded Data\n",
    "df.head()"
   ]
  },
  {
   "cell_type": "markdown",
   "id": "2f13683b",
   "metadata": {
    "id": "t6kAENbRH7zF",
    "papermill": {
     "duration": 0.022139,
     "end_time": "2023-11-26T19:33:04.282538",
     "exception": false,
     "start_time": "2023-11-26T19:33:04.260399",
     "status": "completed"
    },
    "tags": []
   },
   "source": [
    "# Model Building\n"
   ]
  },
  {
   "cell_type": "code",
   "execution_count": 19,
   "id": "cdb4b60a",
   "metadata": {
    "execution": {
     "iopub.execute_input": "2023-11-26T19:33:04.374351Z",
     "iopub.status.busy": "2023-11-26T19:33:04.373865Z",
     "iopub.status.idle": "2023-11-26T19:33:04.393617Z",
     "shell.execute_reply": "2023-11-26T19:33:04.392392Z"
    },
    "id": "tLK1yUvnGuDw",
    "papermill": {
     "duration": 0.04588,
     "end_time": "2023-11-26T19:33:04.396089",
     "exception": false,
     "start_time": "2023-11-26T19:33:04.350209",
     "status": "completed"
    },
    "tags": []
   },
   "outputs": [],
   "source": [
    "features = df.drop(['Target Score'], axis=1)\n",
    "labels = df['Target Score']"
   ]
  },
  {
   "cell_type": "code",
   "execution_count": 20,
   "id": "419b9de6",
   "metadata": {
    "execution": {
     "iopub.execute_input": "2023-11-26T19:33:04.489866Z",
     "iopub.status.busy": "2023-11-26T19:33:04.489451Z",
     "iopub.status.idle": "2023-11-26T19:33:04.643735Z",
     "shell.execute_reply": "2023-11-26T19:33:04.642313Z"
    },
    "id": "yR7cmz0tIhZW",
    "outputId": "9606b4c0-b84b-45a6-f5fa-0ad7dc7ec28b",
    "papermill": {
     "duration": 0.180993,
     "end_time": "2023-11-26T19:33:04.646557",
     "exception": false,
     "start_time": "2023-11-26T19:33:04.465564",
     "status": "completed"
    },
    "tags": []
   },
   "outputs": [
    {
     "name": "stdout",
     "output_type": "stream",
     "text": [
      "Training Set : (118248, 29)\n",
      "Testing Set : (29562, 29)\n"
     ]
    }
   ],
   "source": [
    "from sklearn.model_selection import train_test_split\n",
    "\n",
    "train_features, test_features, train_labels, test_labels = train_test_split(features, labels, test_size=0.20, shuffle=True)\n",
    "print(f\"Training Set : {train_features.shape}\\nTesting Set : {test_features.shape}\")"
   ]
  },
  {
   "cell_type": "markdown",
   "id": "b740590d",
   "metadata": {
    "id": "J5ZhNp2EJ37b",
    "papermill": {
     "duration": 0.0231,
     "end_time": "2023-11-26T19:33:04.693456",
     "exception": false,
     "start_time": "2023-11-26T19:33:04.670356",
     "status": "completed"
    },
    "tags": []
   },
   "source": [
    "# Selecting appropiate ML Algorithms**\n"
   ]
  },
  {
   "cell_type": "markdown",
   "id": "dc599c97",
   "metadata": {},
   "source": [
    "1. DecisionTree"
   ]
  },
  {
   "cell_type": "code",
   "execution_count": 21,
   "id": "fb1b442e",
   "metadata": {
    "execution": {
     "iopub.execute_input": "2023-11-26T19:33:04.741477Z",
     "iopub.status.busy": "2023-11-26T19:33:04.741031Z",
     "iopub.status.idle": "2023-11-26T19:33:04.746675Z",
     "shell.execute_reply": "2023-11-26T19:33:04.745304Z"
    },
    "id": "xPgXWd3rKTnA",
    "papermill": {
     "duration": 0.032591,
     "end_time": "2023-11-26T19:33:04.749167",
     "exception": false,
     "start_time": "2023-11-26T19:33:04.716576",
     "status": "completed"
    },
    "tags": []
   },
   "outputs": [],
   "source": [
    "models = dict()"
   ]
  },
  {
   "cell_type": "code",
   "execution_count": 22,
   "id": "9d293004",
   "metadata": {
    "execution": {
     "iopub.execute_input": "2023-11-26T19:33:04.843953Z",
     "iopub.status.busy": "2023-11-26T19:33:04.843542Z",
     "iopub.status.idle": "2023-11-26T19:33:05.989047Z",
     "shell.execute_reply": "2023-11-26T19:33:05.987913Z"
    },
    "id": "_X6OA45yJx0P",
    "outputId": "3f087a56-9e01-4441-b65a-4ef626f56f81",
    "papermill": {
     "duration": 1.172751,
     "end_time": "2023-11-26T19:33:05.991626",
     "exception": false,
     "start_time": "2023-11-26T19:33:04.818875",
     "status": "completed"
    },
    "tags": []
   },
   "outputs": [
    {
     "data": {
      "text/html": [
       "<style>#sk-container-id-1 {color: black;background-color: white;}#sk-container-id-1 pre{padding: 0;}#sk-container-id-1 div.sk-toggleable {background-color: white;}#sk-container-id-1 label.sk-toggleable__label {cursor: pointer;display: block;width: 100%;margin-bottom: 0;padding: 0.3em;box-sizing: border-box;text-align: center;}#sk-container-id-1 label.sk-toggleable__label-arrow:before {content: \"▸\";float: left;margin-right: 0.25em;color: #696969;}#sk-container-id-1 label.sk-toggleable__label-arrow:hover:before {color: black;}#sk-container-id-1 div.sk-estimator:hover label.sk-toggleable__label-arrow:before {color: black;}#sk-container-id-1 div.sk-toggleable__content {max-height: 0;max-width: 0;overflow: hidden;text-align: left;background-color: #f0f8ff;}#sk-container-id-1 div.sk-toggleable__content pre {margin: 0.2em;color: black;border-radius: 0.25em;background-color: #f0f8ff;}#sk-container-id-1 input.sk-toggleable__control:checked~div.sk-toggleable__content {max-height: 200px;max-width: 100%;overflow: auto;}#sk-container-id-1 input.sk-toggleable__control:checked~label.sk-toggleable__label-arrow:before {content: \"▾\";}#sk-container-id-1 div.sk-estimator input.sk-toggleable__control:checked~label.sk-toggleable__label {background-color: #d4ebff;}#sk-container-id-1 div.sk-label input.sk-toggleable__control:checked~label.sk-toggleable__label {background-color: #d4ebff;}#sk-container-id-1 input.sk-hidden--visually {border: 0;clip: rect(1px 1px 1px 1px);clip: rect(1px, 1px, 1px, 1px);height: 1px;margin: -1px;overflow: hidden;padding: 0;position: absolute;width: 1px;}#sk-container-id-1 div.sk-estimator {font-family: monospace;background-color: #f0f8ff;border: 1px dotted black;border-radius: 0.25em;box-sizing: border-box;margin-bottom: 0.5em;}#sk-container-id-1 div.sk-estimator:hover {background-color: #d4ebff;}#sk-container-id-1 div.sk-parallel-item::after {content: \"\";width: 100%;border-bottom: 1px solid gray;flex-grow: 1;}#sk-container-id-1 div.sk-label:hover label.sk-toggleable__label {background-color: #d4ebff;}#sk-container-id-1 div.sk-serial::before {content: \"\";position: absolute;border-left: 1px solid gray;box-sizing: border-box;top: 0;bottom: 0;left: 50%;z-index: 0;}#sk-container-id-1 div.sk-serial {display: flex;flex-direction: column;align-items: center;background-color: white;padding-right: 0.2em;padding-left: 0.2em;position: relative;}#sk-container-id-1 div.sk-item {position: relative;z-index: 1;}#sk-container-id-1 div.sk-parallel {display: flex;align-items: stretch;justify-content: center;background-color: white;position: relative;}#sk-container-id-1 div.sk-item::before, #sk-container-id-1 div.sk-parallel-item::before {content: \"\";position: absolute;border-left: 1px solid gray;box-sizing: border-box;top: 0;bottom: 0;left: 50%;z-index: -1;}#sk-container-id-1 div.sk-parallel-item {display: flex;flex-direction: column;z-index: 1;position: relative;background-color: white;}#sk-container-id-1 div.sk-parallel-item:first-child::after {align-self: flex-end;width: 50%;}#sk-container-id-1 div.sk-parallel-item:last-child::after {align-self: flex-start;width: 50%;}#sk-container-id-1 div.sk-parallel-item:only-child::after {width: 0;}#sk-container-id-1 div.sk-dashed-wrapped {border: 1px dashed gray;margin: 0 0.4em 0.5em 0.4em;box-sizing: border-box;padding-bottom: 0.4em;background-color: white;}#sk-container-id-1 div.sk-label label {font-family: monospace;font-weight: bold;display: inline-block;line-height: 1.2em;}#sk-container-id-1 div.sk-label-container {text-align: center;}#sk-container-id-1 div.sk-container {/* jupyter's `normalize.less` sets `[hidden] { display: none; }` but bootstrap.min.css set `[hidden] { display: none !important; }` so we also need the `!important` here to be able to override the default hidden behavior on the sphinx rendered scikit-learn.org. See: https://github.com/scikit-learn/scikit-learn/issues/21755 */display: inline-block !important;position: relative;}#sk-container-id-1 div.sk-text-repr-fallback {display: none;}</style><div id=\"sk-container-id-1\" class=\"sk-top-container\"><div class=\"sk-text-repr-fallback\"><pre>DecisionTreeRegressor()</pre><b>In a Jupyter environment, please rerun this cell to show the HTML representation or trust the notebook. <br />On GitHub, the HTML representation is unable to render, please try loading this page with nbviewer.org.</b></div><div class=\"sk-container\" hidden><div class=\"sk-item\"><div class=\"sk-estimator sk-toggleable\"><input class=\"sk-toggleable__control sk-hidden--visually\" id=\"sk-estimator-id-1\" type=\"checkbox\" checked><label for=\"sk-estimator-id-1\" class=\"sk-toggleable__label sk-toggleable__label-arrow\">DecisionTreeRegressor</label><div class=\"sk-toggleable__content\"><pre>DecisionTreeRegressor()</pre></div></div></div></div></div>"
      ],
      "text/plain": [
       "DecisionTreeRegressor()"
      ]
     },
     "execution_count": 22,
     "metadata": {},
     "output_type": "execute_result"
    }
   ],
   "source": [
    "from sklearn.tree import DecisionTreeRegressor\n",
    "tree = DecisionTreeRegressor()\n",
    "# Train Model\n",
    "tree.fit(train_features, train_labels)"
   ]
  },
  {
   "cell_type": "markdown",
   "id": "7dbbf957",
   "metadata": {
    "id": "T7HfUM1mKK2u",
    "papermill": {
     "duration": 0.02318,
     "end_time": "2023-11-26T19:33:04.796079",
     "exception": false,
     "start_time": "2023-11-26T19:33:04.772899",
     "status": "completed"
    },
    "tags": []
   },
   "source": [
    "#### **6.2.1. Decision Tree Regressor**\n",
    "A machine learning model for regression tasks that predicts continuous values by recursively partitioning the data based on features.\n",
    "\n",
    "**Key Features:**\n",
    "  - Builds a tree structure where each internal node represents a decision based on a feature.\n",
    "  - Splits data to minimize the variance of the target variable within each branch.\n",
    "  - Handles non-linear relationships and interactions between features."
   ]
  },
  {
   "cell_type": "code",
   "execution_count": 25,
   "id": "1cf16360",
   "metadata": {
    "execution": {
     "iopub.execute_input": "2023-11-26T19:33:06.043315Z",
     "iopub.status.busy": "2023-11-26T19:33:06.042172Z",
     "iopub.status.idle": "2023-11-26T19:33:06.118624Z",
     "shell.execute_reply": "2023-11-26T19:33:06.117141Z"
    },
    "id": "S_kaCtenKiME",
    "outputId": "387c6b12-4b9c-4631-9ba0-08816bcf7dda",
    "papermill": {
     "duration": 0.105707,
     "end_time": "2023-11-26T19:33:06.121264",
     "exception": false,
     "start_time": "2023-11-26T19:33:06.015557",
     "status": "completed"
    },
    "tags": []
   },
   "outputs": [
    {
     "name": "stdout",
     "output_type": "stream",
     "text": [
      "Train Score : 99.92%\n",
      "Test Score : 66.55%\n"
     ]
    }
   ],
   "source": [
    "# Evaluate Model\n",
    "train_score_tree = str(tree.score(train_features, train_labels) * 100)\n",
    "test_score_tree = str(tree.score(test_features, test_labels) * 100)\n",
    "print(f'Train Score : {train_score_tree[:5]}%\\nTest Score : {test_score_tree[:5]}%')\n",
    "models[\"tree\"] = test_score_tree"
   ]
  },
  {
   "cell_type": "code",
   "execution_count": 26,
   "id": "c2b6fd18",
   "metadata": {
    "execution": {
     "iopub.execute_input": "2023-11-26T19:33:06.171181Z",
     "iopub.status.busy": "2023-11-26T19:33:06.170782Z",
     "iopub.status.idle": "2023-11-26T19:33:06.227782Z",
     "shell.execute_reply": "2023-11-26T19:33:06.226490Z"
    },
    "id": "JPNUcmG0TwoK",
    "outputId": "b9e7f491-6492-4aa3-cb60-5d59c126eb59",
    "papermill": {
     "duration": 0.085403,
     "end_time": "2023-11-26T19:33:06.230571",
     "exception": false,
     "start_time": "2023-11-26T19:33:06.145168",
     "status": "completed"
    },
    "tags": []
   },
   "outputs": [
    {
     "name": "stdout",
     "output_type": "stream",
     "text": [
      "---- Decision Tree Regressor - Model Evaluation ----\n",
      "Mean Absolute Error (MAE): 8.354114516383646\n",
      "Mean Squared Error (MSE): 392.4999812071052\n",
      "Root Mean Squared Error (RMSE): 19.811612281869063\n"
     ]
    }
   ],
   "source": [
    "from sklearn.metrics import mean_absolute_error as mae, mean_squared_error as mse\n",
    "print(\"---- Decision Tree Regressor - Model Evaluation ----\")\n",
    "print(\"Mean Absolute Error (MAE): {}\".format(mae(test_labels, tree.predict(test_features))))\n",
    "print(\"Mean Squared Error (MSE): {}\".format(mse(test_labels, tree.predict(test_features))))\n",
    "print(\"Root Mean Squared Error (RMSE): {}\".format(np.sqrt(mse(test_labels, tree.predict(test_features)))))"
   ]
  },
  {
   "cell_type": "markdown",
   "id": "bb90692a",
   "metadata": {
    "id": "0F9fVUPuMwX0",
    "papermill": {
     "duration": 0.023666,
     "end_time": "2023-11-26T19:33:06.278554",
     "exception": false,
     "start_time": "2023-11-26T19:33:06.254888",
     "status": "completed"
    },
    "tags": []
   },
   "source": [
    "2. Linear Regression"
   ]
  },
  {
   "cell_type": "code",
   "execution_count": 27,
   "id": "109c692d",
   "metadata": {
    "execution": {
     "iopub.execute_input": "2023-11-26T19:33:06.327802Z",
     "iopub.status.busy": "2023-11-26T19:33:06.327382Z",
     "iopub.status.idle": "2023-11-26T19:33:06.566303Z",
     "shell.execute_reply": "2023-11-26T19:33:06.564786Z"
    },
    "id": "RvNDa8MGdYYs",
    "outputId": "4a92f83b-dd4f-40b7-9d62-6962ec810e6c",
    "papermill": {
     "duration": 0.268578,
     "end_time": "2023-11-26T19:33:06.570792",
     "exception": false,
     "start_time": "2023-11-26T19:33:06.302214",
     "status": "completed"
    },
    "tags": []
   },
   "outputs": [
    {
     "data": {
      "text/html": [
       "<style>#sk-container-id-2 {color: black;background-color: white;}#sk-container-id-2 pre{padding: 0;}#sk-container-id-2 div.sk-toggleable {background-color: white;}#sk-container-id-2 label.sk-toggleable__label {cursor: pointer;display: block;width: 100%;margin-bottom: 0;padding: 0.3em;box-sizing: border-box;text-align: center;}#sk-container-id-2 label.sk-toggleable__label-arrow:before {content: \"▸\";float: left;margin-right: 0.25em;color: #696969;}#sk-container-id-2 label.sk-toggleable__label-arrow:hover:before {color: black;}#sk-container-id-2 div.sk-estimator:hover label.sk-toggleable__label-arrow:before {color: black;}#sk-container-id-2 div.sk-toggleable__content {max-height: 0;max-width: 0;overflow: hidden;text-align: left;background-color: #f0f8ff;}#sk-container-id-2 div.sk-toggleable__content pre {margin: 0.2em;color: black;border-radius: 0.25em;background-color: #f0f8ff;}#sk-container-id-2 input.sk-toggleable__control:checked~div.sk-toggleable__content {max-height: 200px;max-width: 100%;overflow: auto;}#sk-container-id-2 input.sk-toggleable__control:checked~label.sk-toggleable__label-arrow:before {content: \"▾\";}#sk-container-id-2 div.sk-estimator input.sk-toggleable__control:checked~label.sk-toggleable__label {background-color: #d4ebff;}#sk-container-id-2 div.sk-label input.sk-toggleable__control:checked~label.sk-toggleable__label {background-color: #d4ebff;}#sk-container-id-2 input.sk-hidden--visually {border: 0;clip: rect(1px 1px 1px 1px);clip: rect(1px, 1px, 1px, 1px);height: 1px;margin: -1px;overflow: hidden;padding: 0;position: absolute;width: 1px;}#sk-container-id-2 div.sk-estimator {font-family: monospace;background-color: #f0f8ff;border: 1px dotted black;border-radius: 0.25em;box-sizing: border-box;margin-bottom: 0.5em;}#sk-container-id-2 div.sk-estimator:hover {background-color: #d4ebff;}#sk-container-id-2 div.sk-parallel-item::after {content: \"\";width: 100%;border-bottom: 1px solid gray;flex-grow: 1;}#sk-container-id-2 div.sk-label:hover label.sk-toggleable__label {background-color: #d4ebff;}#sk-container-id-2 div.sk-serial::before {content: \"\";position: absolute;border-left: 1px solid gray;box-sizing: border-box;top: 0;bottom: 0;left: 50%;z-index: 0;}#sk-container-id-2 div.sk-serial {display: flex;flex-direction: column;align-items: center;background-color: white;padding-right: 0.2em;padding-left: 0.2em;position: relative;}#sk-container-id-2 div.sk-item {position: relative;z-index: 1;}#sk-container-id-2 div.sk-parallel {display: flex;align-items: stretch;justify-content: center;background-color: white;position: relative;}#sk-container-id-2 div.sk-item::before, #sk-container-id-2 div.sk-parallel-item::before {content: \"\";position: absolute;border-left: 1px solid gray;box-sizing: border-box;top: 0;bottom: 0;left: 50%;z-index: -1;}#sk-container-id-2 div.sk-parallel-item {display: flex;flex-direction: column;z-index: 1;position: relative;background-color: white;}#sk-container-id-2 div.sk-parallel-item:first-child::after {align-self: flex-end;width: 50%;}#sk-container-id-2 div.sk-parallel-item:last-child::after {align-self: flex-start;width: 50%;}#sk-container-id-2 div.sk-parallel-item:only-child::after {width: 0;}#sk-container-id-2 div.sk-dashed-wrapped {border: 1px dashed gray;margin: 0 0.4em 0.5em 0.4em;box-sizing: border-box;padding-bottom: 0.4em;background-color: white;}#sk-container-id-2 div.sk-label label {font-family: monospace;font-weight: bold;display: inline-block;line-height: 1.2em;}#sk-container-id-2 div.sk-label-container {text-align: center;}#sk-container-id-2 div.sk-container {/* jupyter's `normalize.less` sets `[hidden] { display: none; }` but bootstrap.min.css set `[hidden] { display: none !important; }` so we also need the `!important` here to be able to override the default hidden behavior on the sphinx rendered scikit-learn.org. See: https://github.com/scikit-learn/scikit-learn/issues/21755 */display: inline-block !important;position: relative;}#sk-container-id-2 div.sk-text-repr-fallback {display: none;}</style><div id=\"sk-container-id-2\" class=\"sk-top-container\"><div class=\"sk-text-repr-fallback\"><pre>LinearRegression()</pre><b>In a Jupyter environment, please rerun this cell to show the HTML representation or trust the notebook. <br />On GitHub, the HTML representation is unable to render, please try loading this page with nbviewer.org.</b></div><div class=\"sk-container\" hidden><div class=\"sk-item\"><div class=\"sk-estimator sk-toggleable\"><input class=\"sk-toggleable__control sk-hidden--visually\" id=\"sk-estimator-id-2\" type=\"checkbox\" checked><label for=\"sk-estimator-id-2\" class=\"sk-toggleable__label sk-toggleable__label-arrow\">LinearRegression</label><div class=\"sk-toggleable__content\"><pre>LinearRegression()</pre></div></div></div></div></div>"
      ],
      "text/plain": [
       "LinearRegression()"
      ]
     },
     "execution_count": 27,
     "metadata": {},
     "output_type": "execute_result"
    }
   ],
   "source": [
    "from sklearn.linear_model import LinearRegression\n",
    "linreg = LinearRegression()\n",
    "# Train Model\n",
    "linreg.fit(train_features, train_labels)"
   ]
  },
  {
   "cell_type": "code",
   "execution_count": 30,
   "id": "7634f51f",
   "metadata": {
    "execution": {
     "iopub.execute_input": "2023-11-26T19:33:06.662065Z",
     "iopub.status.busy": "2023-11-26T19:33:06.661668Z",
     "iopub.status.idle": "2023-11-26T19:33:06.691503Z",
     "shell.execute_reply": "2023-11-26T19:33:06.687924Z"
    },
    "id": "kHOQcP-PQGYq",
    "outputId": "8b25755f-a80a-4529-8331-610b17f693bb",
    "papermill": {
     "duration": 0.074559,
     "end_time": "2023-11-26T19:33:06.695894",
     "exception": false,
     "start_time": "2023-11-26T19:33:06.621335",
     "status": "completed"
    },
    "tags": []
   },
   "outputs": [
    {
     "name": "stdout",
     "output_type": "stream",
     "text": [
      "Train Score : 42.38%\n",
      "Test Score : 41.09%\n"
     ]
    }
   ],
   "source": [
    "# Evaluate Model\n",
    "train_score_linreg = str(linreg.score(train_features, train_labels) * 100)\n",
    "test_score_linreg = str(linreg.score(test_features, test_labels) * 100)\n",
    "print(f'Train Score : {train_score_linreg[:5]}%\\nTest Score : {test_score_linreg[:5]}%')\n",
    "models[\"linreg\"] = test_score_linreg"
   ]
  },
  {
   "cell_type": "code",
   "execution_count": 31,
   "id": "45775e48",
   "metadata": {
    "execution": {
     "iopub.execute_input": "2023-11-26T19:33:06.799362Z",
     "iopub.status.busy": "2023-11-26T19:33:06.798488Z",
     "iopub.status.idle": "2023-11-26T19:33:06.827209Z",
     "shell.execute_reply": "2023-11-26T19:33:06.826112Z"
    },
    "id": "nVSzI12HRnnF",
    "outputId": "ac24b590-78ee-48da-cc37-9392403d92ef",
    "papermill": {
     "duration": 0.084651,
     "end_time": "2023-11-26T19:33:06.830938",
     "exception": false,
     "start_time": "2023-11-26T19:33:06.746287",
     "status": "completed"
    },
    "tags": []
   },
   "outputs": [
    {
     "name": "stdout",
     "output_type": "stream",
     "text": [
      "---- Linear Regression - Model Evaluation ----\n",
      "Mean Absolute Error (MAE): 19.13153030499671\n",
      "Mean Squared Error (MSE): 691.2689111275074\n",
      "Root Mean Squared Error (RMSE): 26.29199328935536\n"
     ]
    }
   ],
   "source": [
    "print(\"---- Linear Regression - Model Evaluation ----\")\n",
    "print(\"Mean Absolute Error (MAE): {}\".format(mae(test_labels, linreg.predict(test_features))))\n",
    "print(\"Mean Squared Error (MSE): {}\".format(mse(test_labels, linreg.predict(test_features))))\n",
    "print(\"Root Mean Squared Error (RMSE): {}\".format(np.sqrt(mse(test_labels, linreg.predict(test_features)))))"
   ]
  },
  {
   "cell_type": "markdown",
   "id": "c1fa5bcd",
   "metadata": {
    "id": "PPjZxiqnT3NC",
    "papermill": {
     "duration": 0.05099,
     "end_time": "2023-11-26T19:33:06.932952",
     "exception": false,
     "start_time": "2023-11-26T19:33:06.881962",
     "status": "completed"
    },
    "tags": []
   },
   "source": [
    "3. Random Forest Regression\n"
   ]
  },
  {
   "cell_type": "code",
   "execution_count": 32,
   "id": "acd4896a",
   "metadata": {
    "execution": {
     "iopub.execute_input": "2023-11-26T19:33:06.988895Z",
     "iopub.status.busy": "2023-11-26T19:33:06.988480Z",
     "iopub.status.idle": "2023-11-26T19:34:07.846071Z",
     "shell.execute_reply": "2023-11-26T19:34:07.844722Z"
    },
    "id": "ub06meKxTlZh",
    "outputId": "f83041a5-beec-4f7c-b917-1eca6646ae3e",
    "papermill": {
     "duration": 60.908519,
     "end_time": "2023-11-26T19:34:07.871575",
     "exception": false,
     "start_time": "2023-11-26T19:33:06.963056",
     "status": "completed"
    },
    "tags": []
   },
   "outputs": [
    {
     "data": {
      "text/html": [
       "<style>#sk-container-id-3 {color: black;background-color: white;}#sk-container-id-3 pre{padding: 0;}#sk-container-id-3 div.sk-toggleable {background-color: white;}#sk-container-id-3 label.sk-toggleable__label {cursor: pointer;display: block;width: 100%;margin-bottom: 0;padding: 0.3em;box-sizing: border-box;text-align: center;}#sk-container-id-3 label.sk-toggleable__label-arrow:before {content: \"▸\";float: left;margin-right: 0.25em;color: #696969;}#sk-container-id-3 label.sk-toggleable__label-arrow:hover:before {color: black;}#sk-container-id-3 div.sk-estimator:hover label.sk-toggleable__label-arrow:before {color: black;}#sk-container-id-3 div.sk-toggleable__content {max-height: 0;max-width: 0;overflow: hidden;text-align: left;background-color: #f0f8ff;}#sk-container-id-3 div.sk-toggleable__content pre {margin: 0.2em;color: black;border-radius: 0.25em;background-color: #f0f8ff;}#sk-container-id-3 input.sk-toggleable__control:checked~div.sk-toggleable__content {max-height: 200px;max-width: 100%;overflow: auto;}#sk-container-id-3 input.sk-toggleable__control:checked~label.sk-toggleable__label-arrow:before {content: \"▾\";}#sk-container-id-3 div.sk-estimator input.sk-toggleable__control:checked~label.sk-toggleable__label {background-color: #d4ebff;}#sk-container-id-3 div.sk-label input.sk-toggleable__control:checked~label.sk-toggleable__label {background-color: #d4ebff;}#sk-container-id-3 input.sk-hidden--visually {border: 0;clip: rect(1px 1px 1px 1px);clip: rect(1px, 1px, 1px, 1px);height: 1px;margin: -1px;overflow: hidden;padding: 0;position: absolute;width: 1px;}#sk-container-id-3 div.sk-estimator {font-family: monospace;background-color: #f0f8ff;border: 1px dotted black;border-radius: 0.25em;box-sizing: border-box;margin-bottom: 0.5em;}#sk-container-id-3 div.sk-estimator:hover {background-color: #d4ebff;}#sk-container-id-3 div.sk-parallel-item::after {content: \"\";width: 100%;border-bottom: 1px solid gray;flex-grow: 1;}#sk-container-id-3 div.sk-label:hover label.sk-toggleable__label {background-color: #d4ebff;}#sk-container-id-3 div.sk-serial::before {content: \"\";position: absolute;border-left: 1px solid gray;box-sizing: border-box;top: 0;bottom: 0;left: 50%;z-index: 0;}#sk-container-id-3 div.sk-serial {display: flex;flex-direction: column;align-items: center;background-color: white;padding-right: 0.2em;padding-left: 0.2em;position: relative;}#sk-container-id-3 div.sk-item {position: relative;z-index: 1;}#sk-container-id-3 div.sk-parallel {display: flex;align-items: stretch;justify-content: center;background-color: white;position: relative;}#sk-container-id-3 div.sk-item::before, #sk-container-id-3 div.sk-parallel-item::before {content: \"\";position: absolute;border-left: 1px solid gray;box-sizing: border-box;top: 0;bottom: 0;left: 50%;z-index: -1;}#sk-container-id-3 div.sk-parallel-item {display: flex;flex-direction: column;z-index: 1;position: relative;background-color: white;}#sk-container-id-3 div.sk-parallel-item:first-child::after {align-self: flex-end;width: 50%;}#sk-container-id-3 div.sk-parallel-item:last-child::after {align-self: flex-start;width: 50%;}#sk-container-id-3 div.sk-parallel-item:only-child::after {width: 0;}#sk-container-id-3 div.sk-dashed-wrapped {border: 1px dashed gray;margin: 0 0.4em 0.5em 0.4em;box-sizing: border-box;padding-bottom: 0.4em;background-color: white;}#sk-container-id-3 div.sk-label label {font-family: monospace;font-weight: bold;display: inline-block;line-height: 1.2em;}#sk-container-id-3 div.sk-label-container {text-align: center;}#sk-container-id-3 div.sk-container {/* jupyter's `normalize.less` sets `[hidden] { display: none; }` but bootstrap.min.css set `[hidden] { display: none !important; }` so we also need the `!important` here to be able to override the default hidden behavior on the sphinx rendered scikit-learn.org. See: https://github.com/scikit-learn/scikit-learn/issues/21755 */display: inline-block !important;position: relative;}#sk-container-id-3 div.sk-text-repr-fallback {display: none;}</style><div id=\"sk-container-id-3\" class=\"sk-top-container\"><div class=\"sk-text-repr-fallback\"><pre>RandomForestRegressor()</pre><b>In a Jupyter environment, please rerun this cell to show the HTML representation or trust the notebook. <br />On GitHub, the HTML representation is unable to render, please try loading this page with nbviewer.org.</b></div><div class=\"sk-container\" hidden><div class=\"sk-item\"><div class=\"sk-estimator sk-toggleable\"><input class=\"sk-toggleable__control sk-hidden--visually\" id=\"sk-estimator-id-3\" type=\"checkbox\" checked><label for=\"sk-estimator-id-3\" class=\"sk-toggleable__label sk-toggleable__label-arrow\">RandomForestRegressor</label><div class=\"sk-toggleable__content\"><pre>RandomForestRegressor()</pre></div></div></div></div></div>"
      ],
      "text/plain": [
       "RandomForestRegressor()"
      ]
     },
     "execution_count": 32,
     "metadata": {},
     "output_type": "execute_result"
    }
   ],
   "source": [
    "from sklearn.ensemble import RandomForestRegressor\n",
    "forest = RandomForestRegressor()\n",
    "# Train Model\n",
    "forest.fit(train_features, train_labels)"
   ]
  },
  {
   "cell_type": "code",
   "execution_count": 33,
   "id": "2facc2b6",
   "metadata": {
    "execution": {
     "iopub.execute_input": "2023-11-26T19:34:07.921677Z",
     "iopub.status.busy": "2023-11-26T19:34:07.921171Z",
     "iopub.status.idle": "2023-11-26T19:34:13.266650Z",
     "shell.execute_reply": "2023-11-26T19:34:13.265306Z"
    },
    "id": "o3o7ax7BUOke",
    "outputId": "d9bdf428-63b1-4b18-eba3-17763b0ab7d1",
    "papermill": {
     "duration": 5.373697,
     "end_time": "2023-11-26T19:34:13.269380",
     "exception": false,
     "start_time": "2023-11-26T19:34:07.895683",
     "status": "completed"
    },
    "tags": []
   },
   "outputs": [
    {
     "name": "stdout",
     "output_type": "stream",
     "text": [
      "Train Score : 97.68%\n",
      "Test Score : 83.36%\n"
     ]
    }
   ],
   "source": [
    "# Evaluate Model\n",
    "train_score_forest = str(forest.score(train_features, train_labels)*100)\n",
    "test_score_forest = str(forest.score(test_features, test_labels)*100)\n",
    "print(f'Train Score : {train_score_forest[:5]}%\\nTest Score : {test_score_forest[:5]}%')\n",
    "models[\"forest\"] = test_score_forest"
   ]
  },
  {
   "cell_type": "code",
   "execution_count": 34,
   "id": "702b33d3",
   "metadata": {
    "execution": {
     "iopub.execute_input": "2023-11-26T19:34:13.322082Z",
     "iopub.status.busy": "2023-11-26T19:34:13.321674Z",
     "iopub.status.idle": "2023-11-26T19:34:16.903004Z",
     "shell.execute_reply": "2023-11-26T19:34:16.901721Z"
    },
    "id": "r82lD-fkebkn",
    "outputId": "2f6174f6-9e4b-46fc-c10c-a983d8c91c44",
    "papermill": {
     "duration": 3.611331,
     "end_time": "2023-11-26T19:34:16.906513",
     "exception": false,
     "start_time": "2023-11-26T19:34:13.295182",
     "status": "completed"
    },
    "tags": []
   },
   "outputs": [
    {
     "name": "stdout",
     "output_type": "stream",
     "text": [
      "---- Random Forest Regression - Model Evaluation ----\n",
      "Mean Absolute Error (MAE): 8.764181040814947\n",
      "Mean Squared Error (MSE): 195.18865156114427\n",
      "Root Mean Squared Error (RMSE): 13.970993220281237\n"
     ]
    }
   ],
   "source": [
    "print(\"---- Random Forest Regression - Model Evaluation ----\")\n",
    "print(\"Mean Absolute Error (MAE): {}\".format(mae(test_labels, forest.predict(test_features))))\n",
    "print(\"Mean Squared Error (MSE): {}\".format(mse(test_labels, forest.predict(test_features))))\n",
    "print(\"Root Mean Squared Error (RMSE): {}\".format(np.sqrt(mse(test_labels, forest.predict(test_features)))))"
   ]
  },
  {
   "cell_type": "markdown",
   "id": "c1e908be",
   "metadata": {
    "id": "_iUiJYZzpF0e",
    "papermill": {
     "duration": 0.025559,
     "end_time": "2023-11-26T19:34:16.959379",
     "exception": false,
     "start_time": "2023-11-26T19:34:16.933820",
     "status": "completed"
    },
    "tags": []
   },
   "source": [
    "Best Model\n",
    "> Out of the above models, lets plot the accuracies of them to know the best model for prediction of accurate scores."
   ]
  },
  {
   "cell_type": "code",
   "execution_count": 35,
   "id": "21586e7e",
   "metadata": {
    "execution": {
     "iopub.execute_input": "2023-11-26T19:34:17.016140Z",
     "iopub.status.busy": "2023-11-26T19:34:17.015095Z",
     "iopub.status.idle": "2023-11-26T19:34:17.273967Z",
     "shell.execute_reply": "2023-11-26T19:34:17.272607Z"
    },
    "id": "dAJYQS-gUoAT",
    "outputId": "8839dec9-deae-4897-cee2-6b5b56e2e8c4",
    "papermill": {
     "duration": 0.291229,
     "end_time": "2023-11-26T19:34:17.276894",
     "exception": false,
     "start_time": "2023-11-26T19:34:16.985665",
     "status": "completed"
    },
    "tags": []
   },
   "outputs": [
    {
     "data": {
      "text/plain": [
       "<BarContainer object of 3 artists>"
      ]
     },
     "execution_count": 35,
     "metadata": {},
     "output_type": "execute_result"
    },
    {
     "data": {
      "image/png": "[encoded data removed]",
      "text/plain": [
       "<Figure size 640x480 with 1 Axes>"
      ]
     },
     "metadata": {},
     "output_type": "display_data"
    }
   ],
   "source": [
    "import matplotlib.pyplot as plt\n",
    "\n",
    "model_names = list(models.keys())\n",
    "accuracy = list(map(float, models.values()))\n",
    "\n",
    "# creating the bar plot\n",
    "plt.bar(model_names, accuracy)"
   ]
  },
  {
   "cell_type": "markdown",
   "id": "ffca2827",
   "metadata": {
    "id": "ZXZ8NE5hgbd2",
    "papermill": {
     "duration": 0.02514,
     "end_time": "2023-11-26T19:34:17.382197",
     "exception": false,
     "start_time": "2023-11-26T19:34:17.357057",
     "status": "completed"
    },
    "tags": []
   },
   "source": [
    "# Predictions"
   ]
  },
  {
   "cell_type": "code",
   "execution_count": 36,
   "id": "f82ca702",
   "metadata": {
    "execution": {
     "iopub.execute_input": "2023-11-26T19:34:17.435718Z",
     "iopub.status.busy": "2023-11-26T19:34:17.434636Z",
     "iopub.status.idle": "2023-11-26T19:34:17.461174Z",
     "shell.execute_reply": "2023-11-26T19:34:17.459432Z"
    },
    "id": "QrWfMFKCU7Zu",
    "papermill": {
     "duration": 0.056541,
     "end_time": "2023-11-26T19:34:17.464296",
     "exception": false,
     "start_time": "2023-11-26T19:34:17.407755",
     "status": "completed"
    },
    "tags": []
   },
   "outputs": [],
   "source": [
    "def score_predict(batting_team, bowling_team, runs, wickets, overs, runs_last_5_overs, wickets_last_5_overs, model=forest):\n",
    "    prediction_array = []\n",
    "    # Batting Team\n",
    "    if batting_team == 'Afghanistan':\n",
    "        prediction_array = prediction_array + [1,0,0,0,0,0,0,0,0,0,0,0]\n",
    "    elif batting_team == 'Australia':\n",
    "        prediction_array = prediction_array + [0,1,0,0,0,0,0,0,0,0,0,0]\n",
    "    elif batting_team == 'Bangladesh':\n",
    "        prediction_array = prediction_array + [0,0,1,0,0,0,0,0,0,0,0,0]\n",
    "    elif batting_team == 'England':\n",
    "        prediction_array = prediction_array + [0,0,0,1,0,0,0,0,0,0,0,0]\n",
    "    elif batting_team == 'India':\n",
    "        prediction_array = prediction_array + [0,0,0,0,1,0,0,0,0,0,0,0]\n",
    "    elif batting_team == 'Ireland':\n",
    "        prediction_array = prediction_array + [0,0,0,0,0,1,0,0,0,0,0,0]\n",
    "    elif batting_team == 'New Zealand':\n",
    "        prediction_array = prediction_array + [0,0,0,0,0,0,1,0,0,0,0,0]\n",
    "    elif batting_team == 'Pakistan':\n",
    "        prediction_array = prediction_array + [0,0,0,0,0,0,0,1,0,0,0,0]\n",
    "    elif batting_team == 'South Africa':\n",
    "        prediction_array = prediction_array + [0,0,0,0,0,0,0,0,1,0,0,0]\n",
    "    elif batting_team == 'Sri Lanka':\n",
    "        prediction_array = prediction_array + [0,0,0,0,0,0,0,0,0,1,0,0]\n",
    "    elif batting_team == 'West Indies':\n",
    "        prediction_array = prediction_array + [0,0,0,0,0,0,0,0,0,0,1,0]\n",
    "    elif batting_team == 'Zimbabwe':\n",
    "        prediction_array = prediction_array + [0,0,0,0,0,0,0,0,0,0,0,1]\n",
    "    # Bowling Team\n",
    "    if bowling_team == 'Afghanistan':\n",
    "        prediction_array = prediction_array + [1,0,0,0,0,0,0,0,0,0,0,0]\n",
    "    elif bowling_team == 'Australia':\n",
    "        prediction_array = prediction_array + [0,1,0,0,0,0,0,0,0,0,0,0]\n",
    "    elif bowling_team == 'Bangladesh':\n",
    "        prediction_array = prediction_array + [0,0,1,0,0,0,0,0,0,0,0,0]\n",
    "    elif bowling_team == 'England':\n",
    "        prediction_array = prediction_array + [0,0,0,1,0,0,0,0,0,0,0,0]\n",
    "    elif bowling_team == 'India':\n",
    "        prediction_array = prediction_array + [0,0,0,0,1,0,0,0,0,0,0,0]\n",
    "    elif bowling_team == 'Ireland':\n",
    "        prediction_array = prediction_array + [0,0,0,0,0,1,0,0,0,0,0,0]\n",
    "    elif bowling_team == 'New Zealand':\n",
    "        prediction_array = prediction_array + [0,0,0,0,0,0,1,0,0,0,0,0]\n",
    "    elif bowling_team == 'Pakistan':\n",
    "        prediction_array = prediction_array + [0,0,0,0,0,0,0,1,0,0,0,0]\n",
    "    elif bowling_team == 'South Africa':\n",
    "        prediction_array = prediction_array + [0,0,0,0,0,0,0,0,1,0,0,0]\n",
    "    elif bowling_team == 'Sri Lanka':\n",
    "        prediction_array = prediction_array + [0,0,0,0,0,0,0,0,0,1,0,0]\n",
    "    elif bowling_team == 'West Indies':\n",
    "        prediction_array = prediction_array + [0,0,0,0,0,0,0,0,0,0,1,0]\n",
    "    elif bowling_team == 'Zimbabwe':\n",
    "        prediction_array = prediction_array + [0,0,0,0,0,0,0,0,0,0,0,1]\n",
    "    \n",
    "    prediction_array = prediction_array + [runs, wickets, overs, runs_last_5_overs, wickets_last_5_overs]\n",
    "    prediction_array = np.array([prediction_array])\n",
    "    \n",
    "    pred = model.predict(prediction_array)\n",
    "    \n",
    "    return int(round(pred[0]))"
   ]
  },
  {
   "cell_type": "markdown",
   "id": "d445dff2",
   "metadata": {
    "id": "SY2cbaHfgdrV",
    "papermill": {
     "duration": 0.026023,
     "end_time": "2023-11-26T19:34:17.517368",
     "exception": false,
     "start_time": "2023-11-26T19:34:17.491345",
     "status": "completed"
    },
    "tags": []
   },
   "source": [
    "#Testing the Model's predictions\n",
    "- Batting Team : **West Indies**\n",
    "- Bowling Team : **South Africa**\n",
    "- Final Score : **259/3**"
   ]
  },
  {
   "cell_type": "code",
   "execution_count": 37,
   "id": "c8a5d176",
   "metadata": {
    "execution": {
     "iopub.execute_input": "2023-11-26T19:34:17.570261Z",
     "iopub.status.busy": "2023-11-26T19:34:17.569774Z",
     "iopub.status.idle": "2023-11-26T19:34:17.586735Z",
     "shell.execute_reply": "2023-11-26T19:34:17.585582Z"
    },
    "id": "s3xhyRdYW4f6",
    "outputId": "11d2c658-b761-4319-b9f5-bd51c7e49043",
    "papermill": {
     "duration": 0.04681,
     "end_time": "2023-11-26T19:34:17.589645",
     "exception": false,
     "start_time": "2023-11-26T19:34:17.542835",
     "status": "completed"
    },
    "scrolled": true,
    "tags": []
   },
   "outputs": [
    {
     "name": "stdout",
     "output_type": "stream",
     "text": [
      "Predicted Score : 258 || Actual Score : 259\n"
     ]
    },
    {
     "name": "stderr",
     "output_type": "stream",
     "text": [
      "C:\\Users\\manoj\\anaconda3\\lib\\site-packages\\sklearn\\base.py:420: UserWarning: X does not have valid feature names, but RandomForestRegressor was fitted with feature names\n",
      "  warnings.warn(\n"
     ]
    }
   ],
   "source": [
    "batting_team='West Indies'\n",
    "bowling_team='South Africa'\n",
    "score = score_predict(batting_team, bowling_team, runs=140, wickets=2, overs=10.5, runs_last_5_overs= 85, wickets_last_5_overs=1)\n",
    "print(f'Predicted Score : {score} || Actual Score : 259')"
   ]
  },
  {
   "cell_type": "code",
   "execution_count": null,
   "id": "9088a38e",
   "metadata": {},
   "outputs": [],
   "source": [
    "#Testing the Model's predictions\n",
    "\n",
    "Batting Team : India\n",
    "Bowling Team : Australia"
   ]
  },
  {
   "cell_type": "code",
   "execution_count": 40,
   "id": "f9d48c28",
   "metadata": {},
   "outputs": [
    {
     "name": "stdout",
     "output_type": "stream",
     "text": [
      "Predicted Score : 202 || Actual Score : 206\n"
     ]
    },
    {
     "name": "stderr",
     "output_type": "stream",
     "text": [
      "C:\\Users\\manoj\\anaconda3\\lib\\site-packages\\sklearn\\base.py:420: UserWarning: X does not have valid feature names, but RandomForestRegressor was fitted with feature names\n",
      "  warnings.warn(\n"
     ]
    }
   ],
   "source": [
    "batting_team='India'\n",
    "bowling_team='Australia'\n",
    "score = score_predict(batting_team, bowling_team, runs=120, wickets=3, overs=11, runs_last_5_overs= 80, wickets_last_5_overs=1)\n",
    "print(f'Predicted Score : {score} || Actual Score : 206')"
   ]
  },
  {
   "cell_type": "code",
   "execution_count": null,
   "id": "6e2bd6de",
   "metadata": {},
   "outputs": [],
   "source": []
  },
  {
   "cell_type": "code",
   "execution_count": null,
   "id": "03850264",
   "metadata": {},
   "outputs": [],
   "source": []
  }
 ],
 "metadata": {
  "colab": {
   "provenance": []
  },
  "kaggle": {
   "accelerator": "none",
   "dataSources": [
    {
     "datasetId": 3761482,
     "sourceId": 6506142,
     "sourceType": "datasetVersion"
    }
   ],
   "dockerImageVersionId": 30579,
   "isGpuEnabled": false,
   "isInternetEnabled": true,
   "language": "python",
   "sourceType": "notebook"
  },
  "kernelspec": {
   "display_name": "Python 3 (ipykernel)",
   "language": "python",
   "name": "python3"
  },
  "language_info": {
   "codemirror_mode": {
    "name": "ipython",
    "version": 3
   },
   "file_extension": ".py",
   "mimetype": "text/x-python",
   "name": "python",
   "nbconvert_exporter": "python",
   "pygments_lexer": "ipython3",
   "version": "3.10.14"
  },
  "papermill": {
   "default_parameters": {},
   "duration": 207.000471,
   "end_time": "2023-11-26T19:34:19.778324",
   "environment_variables": {},
   "exception": null,
   "input_path": "__notebook__.ipynb",
   "output_path": "__notebook__.ipynb",
   "parameters": {},
   "start_time": "2023-11-26T19:30:52.777853",
   "version": "2.4.0"
  },
  "vscode": {
   "interpreter": {
    "hash": "dfc60ba703a6b18fce8d1c6c67f6efc2ac17719420bc54f502a7afdcbe0d1c85"
   }
  }
 },
 "nbformat": 4,
 "nbformat_minor": 5
}
